{
 "cells": [
  {
   "cell_type": "markdown",
   "id": "83b3c194-97b5-4412-a435-128ed2ef32e4",
   "metadata": {},
   "source": [
    "# **Telecom Customer Churn Prediction Project**"
   ]
  },
  {
   "cell_type": "markdown",
   "id": "3e6ced36-0fd1-4c7a-aefb-26777706bbb7",
   "metadata": {},
   "source": [
    "------------------------\n",
    "# Tabel of contents\n",
    "\n",
    "1- [Introduction](#1--Introduction)  \n",
    "2- [Loading Libraries and Data](#2--Loading-Libraries-and-Data)  \n",
    "3- [Data Understanding](#3--Data-Understanding)  \n",
    "4- [Data Cleaning](#4--Data-Cleaning)  \n",
    "5- [Exploratory Data Analysis](#5--Exploratory-Data-Analysis) \n",
    "* [Bussiness Insightes](#Bussiness-Insightes:)\n",
    "* [Data Preparation](#Data-Preparation:)\n",
    "* [EDA for Machine Learning](#EDA-for-Machine-Learning:)\n",
    "* [Key Insights](#Key-Insights)\n",
    "* [Recommenditions](#Recommenditions)\n",
    "\n",
    "6- [Data Preprocessing and Feature Engineering](#6--Data-Preprocessing-and-Feature-Engineering)   \n",
    "7- [Machine Learning Modeling](#7--Machine-Learning-Modeling)  \n",
    "*  [KNN](#KNN)\n",
    "*  [Random Forest](#Random-Forest)\n",
    "\n",
    "8- [Summary](#8--Summary)  \n"
   ]
  },
  {
   "cell_type": "markdown",
   "id": "fd47c439-7b4f-4b3c-b7fe-1c094ee09b83",
   "metadata": {},
   "source": [
    "--------------------------\n",
    "# 1- Introduction\n",
    "<a id=\"Introduction\"></a>\n"
   ]
  },
  {
   "cell_type": "markdown",
   "id": "70981b3c-ec31-42d0-9d16-a31ae63efe97",
   "metadata": {},
   "source": [
    "### Objective:\n",
    "\n",
    "We will briefly describe the project's goal of predicting customer churn in the telecom industry.\n",
    "\n",
    "### Business Problem:\n",
    "\n",
    "In this Project, we will try to explain why churn prediction is important and how it can help the business retain customers."
   ]
  },
  {
   "cell_type": "markdown",
   "id": "765c8358-3f10-4262-b497-294a5b18bc89",
   "metadata": {},
   "source": [
    "--------------------------\n",
    "# 2- Loading Libraries and Data\n",
    "<a id=\"Loading-Libraries-and-Data\"></a>"
   ]
  },
  {
   "cell_type": "markdown",
   "id": "92161447-e2e7-48ef-a5b7-15035a154423",
   "metadata": {},
   "source": [
    "### Importing Libraries:"
   ]
  },
  {
   "cell_type": "code",
   "execution_count": 7,
   "id": "a1b1cf99-b2cd-43cb-ab2e-534e26e625d8",
   "metadata": {},
   "outputs": [
    {
     "ename": "AttributeError",
     "evalue": "`np.unicode_` was removed in the NumPy 2.0 release. Use `np.str_` instead.",
     "output_type": "error",
     "traceback": [
      "\u001b[1;31m---------------------------------------------------------------------------\u001b[0m",
      "\u001b[1;31mAttributeError\u001b[0m                            Traceback (most recent call last)",
      "Cell \u001b[1;32mIn[7], line 10\u001b[0m\n\u001b[0;32m      8\u001b[0m sns\u001b[38;5;241m.\u001b[39mset_theme(style\u001b[38;5;241m=\u001b[39m\u001b[38;5;124m'\u001b[39m\u001b[38;5;124mwhite\u001b[39m\u001b[38;5;124m'\u001b[39m) \n\u001b[0;32m      9\u001b[0m get_ipython()\u001b[38;5;241m.\u001b[39mrun_line_magic(\u001b[38;5;124m'\u001b[39m\u001b[38;5;124mmatplotlib\u001b[39m\u001b[38;5;124m'\u001b[39m, \u001b[38;5;124m'\u001b[39m\u001b[38;5;124minline\u001b[39m\u001b[38;5;124m'\u001b[39m)\n\u001b[1;32m---> 10\u001b[0m \u001b[38;5;28;01mimport\u001b[39;00m \u001b[38;5;21;01mplotly\u001b[39;00m\u001b[38;5;21;01m.\u001b[39;00m\u001b[38;5;21;01mexpress\u001b[39;00m \u001b[38;5;28;01mas\u001b[39;00m \u001b[38;5;21;01mpx\u001b[39;00m \n\u001b[0;32m     11\u001b[0m \u001b[38;5;28;01mimport\u001b[39;00m \u001b[38;5;21;01mplotly\u001b[39;00m\u001b[38;5;21;01m.\u001b[39;00m\u001b[38;5;21;01mgraph_objects\u001b[39;00m \u001b[38;5;28;01mas\u001b[39;00m \u001b[38;5;21;01mgo\u001b[39;00m\n\u001b[0;32m     12\u001b[0m \u001b[38;5;28;01mfrom\u001b[39;00m \u001b[38;5;21;01mplotly\u001b[39;00m\u001b[38;5;21;01m.\u001b[39;00m\u001b[38;5;21;01msubplots\u001b[39;00m \u001b[38;5;28;01mimport\u001b[39;00m make_subplots\n",
      "File \u001b[1;32m~\\AppData\\Roaming\\Python\\Python312\\site-packages\\plotly\\express\\__init__.py:14\u001b[0m\n\u001b[0;32m      8\u001b[0m \u001b[38;5;28;01mif\u001b[39;00m pd \u001b[38;5;129;01mis\u001b[39;00m \u001b[38;5;28;01mNone\u001b[39;00m:\n\u001b[0;32m      9\u001b[0m     \u001b[38;5;28;01mraise\u001b[39;00m \u001b[38;5;167;01mImportError\u001b[39;00m(\n\u001b[0;32m     10\u001b[0m \u001b[38;5;250m        \u001b[39m\u001b[38;5;124;03m\"\"\"\\\u001b[39;00m\n\u001b[0;32m     11\u001b[0m \u001b[38;5;124;03mPlotly express requires pandas to be installed.\"\"\"\u001b[39;00m\n\u001b[0;32m     12\u001b[0m     )\n\u001b[1;32m---> 14\u001b[0m \u001b[38;5;28;01mfrom\u001b[39;00m \u001b[38;5;21;01m.\u001b[39;00m\u001b[38;5;21;01m_imshow\u001b[39;00m \u001b[38;5;28;01mimport\u001b[39;00m imshow\n\u001b[0;32m     15\u001b[0m \u001b[38;5;28;01mfrom\u001b[39;00m \u001b[38;5;21;01m.\u001b[39;00m\u001b[38;5;21;01m_chart_types\u001b[39;00m \u001b[38;5;28;01mimport\u001b[39;00m (  \u001b[38;5;66;03m# noqa: F401\u001b[39;00m\n\u001b[0;32m     16\u001b[0m     scatter,\n\u001b[0;32m     17\u001b[0m     scatter_3d,\n\u001b[1;32m   (...)\u001b[0m\n\u001b[0;32m     54\u001b[0m     density_mapbox,\n\u001b[0;32m     55\u001b[0m )\n\u001b[0;32m     58\u001b[0m \u001b[38;5;28;01mfrom\u001b[39;00m \u001b[38;5;21;01m.\u001b[39;00m\u001b[38;5;21;01m_core\u001b[39;00m \u001b[38;5;28;01mimport\u001b[39;00m (  \u001b[38;5;66;03m# noqa: F401\u001b[39;00m\n\u001b[0;32m     59\u001b[0m     set_mapbox_access_token,\n\u001b[0;32m     60\u001b[0m     defaults,\n\u001b[0;32m     61\u001b[0m     get_trendline_results,\n\u001b[0;32m     62\u001b[0m     NO_COLOR,\n\u001b[0;32m     63\u001b[0m )\n",
      "File \u001b[1;32m~\\AppData\\Roaming\\Python\\Python312\\site-packages\\plotly\\express\\_imshow.py:11\u001b[0m\n\u001b[0;32m      8\u001b[0m \u001b[38;5;28;01mfrom\u001b[39;00m \u001b[38;5;21;01mplotly\u001b[39;00m\u001b[38;5;21;01m.\u001b[39;00m\u001b[38;5;21;01mutils\u001b[39;00m \u001b[38;5;28;01mimport\u001b[39;00m image_array_to_data_uri\n\u001b[0;32m     10\u001b[0m \u001b[38;5;28;01mtry\u001b[39;00m:\n\u001b[1;32m---> 11\u001b[0m     \u001b[38;5;28;01mimport\u001b[39;00m \u001b[38;5;21;01mxarray\u001b[39;00m\n\u001b[0;32m     13\u001b[0m     xarray_imported \u001b[38;5;241m=\u001b[39m \u001b[38;5;28;01mTrue\u001b[39;00m\n\u001b[0;32m     14\u001b[0m \u001b[38;5;28;01mexcept\u001b[39;00m \u001b[38;5;167;01mImportError\u001b[39;00m:\n",
      "File \u001b[1;32mC:\\ProgramData\\anaconda3\\Lib\\site-packages\\xarray\\__init__.py:1\u001b[0m\n\u001b[1;32m----> 1\u001b[0m \u001b[38;5;28;01mfrom\u001b[39;00m \u001b[38;5;21;01mxarray\u001b[39;00m \u001b[38;5;28;01mimport\u001b[39;00m testing, tutorial\n\u001b[0;32m      2\u001b[0m \u001b[38;5;28;01mfrom\u001b[39;00m \u001b[38;5;21;01mxarray\u001b[39;00m\u001b[38;5;21;01m.\u001b[39;00m\u001b[38;5;21;01mbackends\u001b[39;00m\u001b[38;5;21;01m.\u001b[39;00m\u001b[38;5;21;01mapi\u001b[39;00m \u001b[38;5;28;01mimport\u001b[39;00m (\n\u001b[0;32m      3\u001b[0m     load_dataarray,\n\u001b[0;32m      4\u001b[0m     load_dataset,\n\u001b[1;32m   (...)\u001b[0m\n\u001b[0;32m      8\u001b[0m     save_mfdataset,\n\u001b[0;32m      9\u001b[0m )\n\u001b[0;32m     10\u001b[0m \u001b[38;5;28;01mfrom\u001b[39;00m \u001b[38;5;21;01mxarray\u001b[39;00m\u001b[38;5;21;01m.\u001b[39;00m\u001b[38;5;21;01mbackends\u001b[39;00m\u001b[38;5;21;01m.\u001b[39;00m\u001b[38;5;21;01mzarr\u001b[39;00m \u001b[38;5;28;01mimport\u001b[39;00m open_zarr\n",
      "File \u001b[1;32mC:\\ProgramData\\anaconda3\\Lib\\site-packages\\xarray\\testing.py:10\u001b[0m\n\u001b[0;32m      7\u001b[0m \u001b[38;5;28;01mimport\u001b[39;00m \u001b[38;5;21;01mnumpy\u001b[39;00m \u001b[38;5;28;01mas\u001b[39;00m \u001b[38;5;21;01mnp\u001b[39;00m\n\u001b[0;32m      8\u001b[0m \u001b[38;5;28;01mimport\u001b[39;00m \u001b[38;5;21;01mpandas\u001b[39;00m \u001b[38;5;28;01mas\u001b[39;00m \u001b[38;5;21;01mpd\u001b[39;00m\n\u001b[1;32m---> 10\u001b[0m \u001b[38;5;28;01mfrom\u001b[39;00m \u001b[38;5;21;01mxarray\u001b[39;00m\u001b[38;5;21;01m.\u001b[39;00m\u001b[38;5;21;01mcore\u001b[39;00m \u001b[38;5;28;01mimport\u001b[39;00m duck_array_ops, formatting, utils\n\u001b[0;32m     11\u001b[0m \u001b[38;5;28;01mfrom\u001b[39;00m \u001b[38;5;21;01mxarray\u001b[39;00m\u001b[38;5;21;01m.\u001b[39;00m\u001b[38;5;21;01mcore\u001b[39;00m\u001b[38;5;21;01m.\u001b[39;00m\u001b[38;5;21;01mdataarray\u001b[39;00m \u001b[38;5;28;01mimport\u001b[39;00m DataArray\n\u001b[0;32m     12\u001b[0m \u001b[38;5;28;01mfrom\u001b[39;00m \u001b[38;5;21;01mxarray\u001b[39;00m\u001b[38;5;21;01m.\u001b[39;00m\u001b[38;5;21;01mcore\u001b[39;00m\u001b[38;5;21;01m.\u001b[39;00m\u001b[38;5;21;01mdataset\u001b[39;00m \u001b[38;5;28;01mimport\u001b[39;00m Dataset\n",
      "File \u001b[1;32mC:\\ProgramData\\anaconda3\\Lib\\site-packages\\xarray\\core\\duck_array_ops.py:36\u001b[0m\n\u001b[0;32m     33\u001b[0m \u001b[38;5;28;01mfrom\u001b[39;00m \u001b[38;5;21;01mnumpy\u001b[39;00m\u001b[38;5;21;01m.\u001b[39;00m\u001b[38;5;21;01mcore\u001b[39;00m\u001b[38;5;21;01m.\u001b[39;00m\u001b[38;5;21;01mmultiarray\u001b[39;00m \u001b[38;5;28;01mimport\u001b[39;00m normalize_axis_index  \u001b[38;5;66;03m# type: ignore[attr-defined]\u001b[39;00m\n\u001b[0;32m     34\u001b[0m \u001b[38;5;28;01mfrom\u001b[39;00m \u001b[38;5;21;01mnumpy\u001b[39;00m\u001b[38;5;21;01m.\u001b[39;00m\u001b[38;5;21;01mlib\u001b[39;00m\u001b[38;5;21;01m.\u001b[39;00m\u001b[38;5;21;01mstride_tricks\u001b[39;00m \u001b[38;5;28;01mimport\u001b[39;00m sliding_window_view  \u001b[38;5;66;03m# noqa\u001b[39;00m\n\u001b[1;32m---> 36\u001b[0m \u001b[38;5;28;01mfrom\u001b[39;00m \u001b[38;5;21;01mxarray\u001b[39;00m\u001b[38;5;21;01m.\u001b[39;00m\u001b[38;5;21;01mcore\u001b[39;00m \u001b[38;5;28;01mimport\u001b[39;00m dask_array_ops, dtypes, nputils\n\u001b[0;32m     37\u001b[0m \u001b[38;5;28;01mfrom\u001b[39;00m \u001b[38;5;21;01mxarray\u001b[39;00m\u001b[38;5;21;01m.\u001b[39;00m\u001b[38;5;21;01mcore\u001b[39;00m\u001b[38;5;21;01m.\u001b[39;00m\u001b[38;5;21;01mparallelcompat\u001b[39;00m \u001b[38;5;28;01mimport\u001b[39;00m get_chunked_array_type, is_chunked_array\n\u001b[0;32m     38\u001b[0m \u001b[38;5;28;01mfrom\u001b[39;00m \u001b[38;5;21;01mxarray\u001b[39;00m\u001b[38;5;21;01m.\u001b[39;00m\u001b[38;5;21;01mcore\u001b[39;00m\u001b[38;5;21;01m.\u001b[39;00m\u001b[38;5;21;01mpycompat\u001b[39;00m \u001b[38;5;28;01mimport\u001b[39;00m array_type, is_duck_dask_array\n",
      "File \u001b[1;32mC:\\ProgramData\\anaconda3\\Lib\\site-packages\\xarray\\core\\dask_array_ops.py:3\u001b[0m\n\u001b[0;32m      1\u001b[0m \u001b[38;5;28;01mfrom\u001b[39;00m \u001b[38;5;21;01m__future__\u001b[39;00m \u001b[38;5;28;01mimport\u001b[39;00m annotations\n\u001b[1;32m----> 3\u001b[0m \u001b[38;5;28;01mfrom\u001b[39;00m \u001b[38;5;21;01mxarray\u001b[39;00m\u001b[38;5;21;01m.\u001b[39;00m\u001b[38;5;21;01mcore\u001b[39;00m \u001b[38;5;28;01mimport\u001b[39;00m dtypes, nputils\n\u001b[0;32m      6\u001b[0m \u001b[38;5;28;01mdef\u001b[39;00m \u001b[38;5;21mdask_rolling_wrapper\u001b[39m(moving_func, a, window, min_count\u001b[38;5;241m=\u001b[39m\u001b[38;5;28;01mNone\u001b[39;00m, axis\u001b[38;5;241m=\u001b[39m\u001b[38;5;241m-\u001b[39m\u001b[38;5;241m1\u001b[39m):\n\u001b[0;32m      7\u001b[0m \u001b[38;5;250m    \u001b[39m\u001b[38;5;124;03m\"\"\"Wrapper to apply bottleneck moving window funcs on dask arrays\"\"\"\u001b[39;00m\n",
      "File \u001b[1;32mC:\\ProgramData\\anaconda3\\Lib\\site-packages\\xarray\\core\\dtypes.py:43\u001b[0m\n\u001b[0;32m     33\u001b[0m NINF \u001b[38;5;241m=\u001b[39m AlwaysLessThan()\n\u001b[0;32m     36\u001b[0m \u001b[38;5;66;03m# Pairs of types that, if both found, should be promoted to object dtype\u001b[39;00m\n\u001b[0;32m     37\u001b[0m \u001b[38;5;66;03m# instead of following NumPy's own type-promotion rules. These type promotion\u001b[39;00m\n\u001b[0;32m     38\u001b[0m \u001b[38;5;66;03m# rules match pandas instead. For reference, see the NumPy type hierarchy:\u001b[39;00m\n\u001b[0;32m     39\u001b[0m \u001b[38;5;66;03m# https://numpy.org/doc/stable/reference/arrays.scalars.html\u001b[39;00m\n\u001b[0;32m     40\u001b[0m PROMOTE_TO_OBJECT: \u001b[38;5;28mtuple\u001b[39m[\u001b[38;5;28mtuple\u001b[39m[\u001b[38;5;28mtype\u001b[39m[np\u001b[38;5;241m.\u001b[39mgeneric], \u001b[38;5;28mtype\u001b[39m[np\u001b[38;5;241m.\u001b[39mgeneric]], \u001b[38;5;241m.\u001b[39m\u001b[38;5;241m.\u001b[39m\u001b[38;5;241m.\u001b[39m] \u001b[38;5;241m=\u001b[39m (\n\u001b[0;32m     41\u001b[0m     (np\u001b[38;5;241m.\u001b[39mnumber, np\u001b[38;5;241m.\u001b[39mcharacter),  \u001b[38;5;66;03m# numpy promotes to character\u001b[39;00m\n\u001b[0;32m     42\u001b[0m     (np\u001b[38;5;241m.\u001b[39mbool_, np\u001b[38;5;241m.\u001b[39mcharacter),  \u001b[38;5;66;03m# numpy promotes to character\u001b[39;00m\n\u001b[1;32m---> 43\u001b[0m     (np\u001b[38;5;241m.\u001b[39mbytes_, \u001b[43mnp\u001b[49m\u001b[38;5;241;43m.\u001b[39;49m\u001b[43municode_\u001b[49m),  \u001b[38;5;66;03m# numpy promotes to unicode\u001b[39;00m\n\u001b[0;32m     44\u001b[0m )\n\u001b[0;32m     47\u001b[0m \u001b[38;5;28;01mdef\u001b[39;00m \u001b[38;5;21mmaybe_promote\u001b[39m(dtype):\n\u001b[0;32m     48\u001b[0m \u001b[38;5;250m    \u001b[39m\u001b[38;5;124;03m\"\"\"Simpler equivalent of pandas.core.common._maybe_promote\u001b[39;00m\n\u001b[0;32m     49\u001b[0m \n\u001b[0;32m     50\u001b[0m \u001b[38;5;124;03m    Parameters\u001b[39;00m\n\u001b[1;32m   (...)\u001b[0m\n\u001b[0;32m     57\u001b[0m \u001b[38;5;124;03m    fill_value : Valid missing value for the promoted dtype.\u001b[39;00m\n\u001b[0;32m     58\u001b[0m \u001b[38;5;124;03m    \"\"\"\u001b[39;00m\n",
      "File \u001b[1;32m~\\AppData\\Roaming\\Python\\Python312\\site-packages\\numpy\\__init__.py:411\u001b[0m, in \u001b[0;36m__getattr__\u001b[1;34m(attr)\u001b[0m\n\u001b[0;32m    408\u001b[0m     \u001b[38;5;28;01mraise\u001b[39;00m \u001b[38;5;167;01mAttributeError\u001b[39;00m(__former_attrs__[attr])\n\u001b[0;32m    410\u001b[0m \u001b[38;5;28;01mif\u001b[39;00m attr \u001b[38;5;129;01min\u001b[39;00m __expired_attributes__:\n\u001b[1;32m--> 411\u001b[0m     \u001b[38;5;28;01mraise\u001b[39;00m \u001b[38;5;167;01mAttributeError\u001b[39;00m(\n\u001b[0;32m    412\u001b[0m         \u001b[38;5;124mf\u001b[39m\u001b[38;5;124m\"\u001b[39m\u001b[38;5;124m`np.\u001b[39m\u001b[38;5;132;01m{\u001b[39;00mattr\u001b[38;5;132;01m}\u001b[39;00m\u001b[38;5;124m` was removed in the NumPy 2.0 release. \u001b[39m\u001b[38;5;124m\"\u001b[39m\n\u001b[0;32m    413\u001b[0m         \u001b[38;5;124mf\u001b[39m\u001b[38;5;124m\"\u001b[39m\u001b[38;5;132;01m{\u001b[39;00m__expired_attributes__[attr]\u001b[38;5;132;01m}\u001b[39;00m\u001b[38;5;124m\"\u001b[39m\n\u001b[0;32m    414\u001b[0m     )\n\u001b[0;32m    416\u001b[0m \u001b[38;5;28;01mif\u001b[39;00m attr \u001b[38;5;241m==\u001b[39m \u001b[38;5;124m\"\u001b[39m\u001b[38;5;124mchararray\u001b[39m\u001b[38;5;124m\"\u001b[39m:\n\u001b[0;32m    417\u001b[0m     warnings\u001b[38;5;241m.\u001b[39mwarn(\n\u001b[0;32m    418\u001b[0m         \u001b[38;5;124m\"\u001b[39m\u001b[38;5;124m`np.chararray` is deprecated and will be removed from \u001b[39m\u001b[38;5;124m\"\u001b[39m\n\u001b[0;32m    419\u001b[0m         \u001b[38;5;124m\"\u001b[39m\u001b[38;5;124mthe main namespace in the future. Use an array with a string \u001b[39m\u001b[38;5;124m\"\u001b[39m\n\u001b[0;32m    420\u001b[0m         \u001b[38;5;124m\"\u001b[39m\u001b[38;5;124mor bytes dtype instead.\u001b[39m\u001b[38;5;124m\"\u001b[39m, \u001b[38;5;167;01mDeprecationWarning\u001b[39;00m, stacklevel\u001b[38;5;241m=\u001b[39m\u001b[38;5;241m2\u001b[39m)\n",
      "\u001b[1;31mAttributeError\u001b[0m: `np.unicode_` was removed in the NumPy 2.0 release. Use `np.str_` instead."
     ]
    }
   ],
   "source": [
    "# Data manipulation and analysis\n",
    "import pandas as pd\n",
    "import numpy as np\n",
    "\n",
    "# Data visualization\n",
    "import matplotlib.pyplot as plt\n",
    "import seaborn as sns\n",
    "sns.set_theme(style='white') \n",
    "%matplotlib inline\n",
    "import plotly.express as px \n",
    "import plotly.graph_objects as go\n",
    "from plotly.subplots import make_subplots\n",
    "import plotly.io as pio\n",
    "pio.renderers.default='notebook_connected'\n",
    "\n",
    "# Preprocessing\n",
    "from sklearn.model_selection import train_test_split\n",
    "from sklearn.preprocessing import StandardScaler, LabelEncoder\n",
    "\n",
    "# Model building and evaluation\n",
    "from sklearn.ensemble import RandomForestClassifier\n",
    "from sklearn.linear_model import LogisticRegression\n",
    "from sklearn.tree import DecisionTreeClassifier\n",
    "from sklearn.neighbors import KNeighborsClassifier \n",
    "from sklearn.pipeline import Pipeline\n",
    "from sklearn.metrics import accuracy_score, confusion_matrix, classification_report, precision_score, recall_score, f1_score\n",
    "from sklearn.model_selection import StratifiedShuffleSplit\n",
    "from sklearn.utils import resample\n",
    "\n",
    "# Hyperparameter tuning\n",
    "from sklearn.model_selection import GridSearchCV\n",
    "\n",
    "# Import the required function\n",
    "from scipy.stats import chi2_contingency,wilcoxon, mannwhitneyu, skew\n",
    "from scipy.stats import chi2_contingency \n",
    "from itertools import combinations\n",
    "import scipy.stats as ss\n",
    "\n",
    "# Display plots inline\n",
    "%matplotlib inline\n",
    "\n",
    "# Configure seaborn\n",
    "sns.set(style=\"whitegrid\")\n",
    "\n",
    "import warnings\n",
    "warnings.filterwarnings('ignore') "
   ]
  },
  {
   "cell_type": "markdown",
   "id": "c97107db-045b-4597-ae85-0489d2d02cf4",
   "metadata": {},
   "source": [
    "### Loading Data:"
   ]
  },
  {
   "cell_type": "code",
   "execution_count": null,
   "id": "6e5557b8-4d41-46ad-b380-1e2e51c29fd1",
   "metadata": {},
   "outputs": [],
   "source": [
    "# Load the CSV file\n",
    "url = 'https://raw.githubusercontent.com/ahosnyyy/capstone_project/refs/heads/main/data/telco-customer-churn.csv'\n",
    "df = pd.read_csv(url)"
   ]
  },
  {
   "cell_type": "markdown",
   "id": "9706b948-db54-4cc6-8724-70b38e951199",
   "metadata": {},
   "source": [
    "----------------------\n",
    "# 3- Data Understanding\n",
    "<a id=\"Data-Understanding\"></a>"
   ]
  },
  {
   "cell_type": "markdown",
   "id": "6f598c8d-7e10-444c-9535-85b9453cf73a",
   "metadata": {},
   "source": [
    "- Each row represents a customer, each column contains customer’s attributes described on the column Metadata."
   ]
  },
  {
   "cell_type": "code",
   "execution_count": null,
   "id": "5bda4dd2-635b-478c-a266-cdaee7803b5f",
   "metadata": {},
   "outputs": [],
   "source": [
    "# removing the max columns limit to better read the data\n",
    "pd.set_option('display.max_columns', None)\n",
    "df.head()      # Display the first few rows"
   ]
  },
  {
   "cell_type": "markdown",
   "id": "42a6e38e-4633-49dd-88d5-1c1629d591bf",
   "metadata": {},
   "source": [
    "- Next, we will check the structure of the dataset, including data types and missing values."
   ]
  },
  {
   "cell_type": "code",
   "execution_count": null,
   "id": "820b9c28-5731-4e6f-8340-f8eba5e1d88f",
   "metadata": {},
   "outputs": [],
   "source": [
    "# Check data structure\n",
    "df.shape"
   ]
  },
  {
   "cell_type": "markdown",
   "id": "00f5efe0-7665-4674-b85d-07e705e8f5d7",
   "metadata": {},
   "source": [
    "### Data Overview:\n",
    "\n",
    " The dataset contains information about **7,043** telecom customers and their service usage patterns, demographics, and whether they churned or not. It has **21** columns, covering aspects like customer demographics, account details, services they have subscribed to, and their churn status. **Below are some key features:**\n",
    "\n",
    "*  **Customer Information:**\n",
    "\n",
    "   * `customerID`: Unique identifier for each customer.\n",
    "   * `gender`: Gender of the customer (Male/Female).\n",
    "   * `SeniorCitizen`: Whether the customer is a senior citizen (1 for Yes, 0 for No). \n",
    "   * `Partner` and `Dependents`: Whether the customer has a partner or dependents.   \n",
    "\n",
    "* **Service Information:**\n",
    "  * `PhoneService`, `MultipleLines`: Whether the customer has phone service and multiple lines.\n",
    "  * `InternetService`, `OnlineSecurity`, `OnlineBackup`, `DeviceProtection`, `TechSupport`, `StreamingTV`, `StreamingMovies`: Various internet services and support options the customer uses.\n",
    "\n",
    "* **Account Information:**\n",
    "\n",
    "  * `Contract`: Type of contract the customer has (Month-to-month, One year, Two years).\n",
    "  * `PaperlessBilling`: Whether the customer has opted for paperless billing.\n",
    "  * `PaymentMethod`: The customer’s method of payment (e.g., Electronic check, Mailed check).\n",
    "  * `MonthlyCharges` and `TotalCharges`: Monthly and total charges for the customer.\n",
    "  * `tenure`: Indicates the total amount of months that the customer has been with the company.\n",
    "\n",
    "* **Target Variable:**\n",
    "\n",
    "  * `Churn`: Whether the customer churned (Yes/No).\n",
    "  \n",
    "This dataset is well-suited for churn prediction, providing various service and account attributes that can be used to understand patterns in customer churn."
   ]
  },
  {
   "cell_type": "code",
   "execution_count": null,
   "id": "14842aab-aceb-4a2d-a875-df50c2cb1b22",
   "metadata": {},
   "outputs": [],
   "source": [
    "df.info()"
   ]
  },
  {
   "cell_type": "code",
   "execution_count": null,
   "id": "9493711a-ba8b-4562-b3db-1e7d5e9c421d",
   "metadata": {},
   "outputs": [],
   "source": [
    "df.columns.values"
   ]
  },
  {
   "cell_type": "code",
   "execution_count": null,
   "id": "b953f052-226c-4ebf-8535-7115bb165d48",
   "metadata": {},
   "outputs": [],
   "source": [
    "df.dtypes"
   ]
  },
  {
   "cell_type": "code",
   "execution_count": null,
   "id": "57ccc0d3-cb28-4e12-8a20-a7be73c5a4db",
   "metadata": {},
   "outputs": [],
   "source": [
    "df.describe()    # Summary statistics for numerical features"
   ]
  },
  {
   "cell_type": "code",
   "execution_count": null,
   "id": "bd6b48ff-6aee-4809-be6a-91d5ec4091f4",
   "metadata": {},
   "outputs": [],
   "source": [
    "# Check for Null values in the dataset\n",
    "df.isnull().sum()"
   ]
  },
  {
   "cell_type": "markdown",
   "id": "0f64ee90-4089-47ed-8006-7bfef19f6684",
   "metadata": {},
   "source": [
    "**Checking duplicates**"
   ]
  },
  {
   "cell_type": "code",
   "execution_count": null,
   "id": "a7927960-49e1-4fc4-9bdb-c96baa1b9620",
   "metadata": {},
   "outputs": [],
   "source": [
    "duplicates = df.duplicated()\n",
    "print(duplicates.sum())  # This will show the total number of duplicate rows"
   ]
  },
  {
   "cell_type": "markdown",
   "id": "ad4d6bf7-a922-43b0-a1e0-956342c4c689",
   "metadata": {},
   "source": [
    "--------------------------\n",
    "# 4- Data Cleaning\n",
    "<a id=\"Data-Cleaning\"></a>"
   ]
  },
  {
   "cell_type": "markdown",
   "id": "b1d3aa0c-b127-43ef-a112-6c5f954a4b75",
   "metadata": {},
   "source": [
    "From the initial data overview, we can find some indirect missingness in our data (which can be in form of blank spaces), particularly `TotalCharges`.  \n",
    "The column `TotalCharges` might be of type `object` instead of `float` due to the presence of missing or bad data.  \n",
    "Let's see that !"
   ]
  },
  {
   "cell_type": "code",
   "execution_count": null,
   "id": "0afa41d8-e079-4659-ae2f-e268b58bee93",
   "metadata": {},
   "outputs": [],
   "source": [
    "df['TotalCharges'] = pd.to_numeric(df['TotalCharges'], errors='coerce') # coerce => If the data null will put NAN instead of error"
   ]
  },
  {
   "cell_type": "code",
   "execution_count": null,
   "id": "e76556f4-9c84-4301-9cc5-3b5a2c5ec6cc",
   "metadata": {},
   "outputs": [],
   "source": [
    "df.isnull().sum()"
   ]
  },
  {
   "cell_type": "markdown",
   "id": "0b4ee8a9-364f-479a-85ea-f190732d4223",
   "metadata": {},
   "source": [
    "- Here we see that the TotalCharges has **11** missing values. Let's check this data."
   ]
  },
  {
   "cell_type": "code",
   "execution_count": null,
   "id": "f0fe1a28-fd8c-4254-b4a0-cd7ca416f781",
   "metadata": {},
   "outputs": [],
   "source": [
    "df[np.isnan(df['TotalCharges'])]"
   ]
  },
  {
   "cell_type": "markdown",
   "id": "df2b4fea-9e54-4c02-a0c2-6b8892e0c444",
   "metadata": {},
   "source": [
    "- It can also be noted that the `Tenure` column is `0` for these entries even though the `MonthlyCharges` column is not empty.  \n",
    "Let's see if there are any other `0` values in the `tenure` column."
   ]
  },
  {
   "cell_type": "code",
   "execution_count": null,
   "id": "365314d0-0811-4e77-aaf1-1607207aadee",
   "metadata": {},
   "outputs": [],
   "source": [
    "df[df['tenure'] == 0].index"
   ]
  },
  {
   "cell_type": "markdown",
   "id": "1fe9b96e-eef2-4722-9a1a-391d4798d159",
   "metadata": {},
   "source": [
    "- There are no additional missing values in the `Tenure` column.  \n",
    "- Let's delete the rows with missing values in `TotalCharges` columns since there are only **11** rows and deleting them will not affect the data."
   ]
  },
  {
   "cell_type": "code",
   "execution_count": null,
   "id": "7a9e3624-96f5-4384-94c0-c690d44d81a4",
   "metadata": {},
   "outputs": [],
   "source": [
    "# Drop rows where TotalCharges has missing values (NaN)\n",
    "df.dropna(subset=['TotalCharges'], inplace=True)\n",
    "\n",
    "# Verify if any missing values remain\n",
    "df.isnull().sum()"
   ]
  },
  {
   "cell_type": "markdown",
   "id": "536812d3-34f5-45ee-8a87-8d3d9f79291e",
   "metadata": {},
   "source": [
    "------------------------\n",
    "# 5- Exploratory Data Analysis\n",
    "<a id=\"Exploratory-Data-Analysis\"></a>"
   ]
  },
  {
   "cell_type": "markdown",
   "id": "ed823d4b-8750-4562-99b2-cd4e5b9f6831",
   "metadata": {},
   "source": [
    "## Bussiness Insightes:\n",
    "<a id=\"Bussiness-Insightes:\"></a>"
   ]
  },
  {
   "cell_type": "markdown",
   "id": "bf181bfe-dc33-4b9e-a151-87e2156de801",
   "metadata": {},
   "source": [
    "### Overview of the Dataset\n",
    "\n",
    "- Description for summary statistics for numerical features after updating data types."
   ]
  },
  {
   "cell_type": "code",
   "execution_count": null,
   "id": "5ebbd8f8-c7fd-4510-aa05-43a50a179990",
   "metadata": {},
   "outputs": [],
   "source": [
    "df[['tenure','MonthlyCharges','TotalCharges']].describe()"
   ]
  },
  {
   "cell_type": "markdown",
   "id": "e2cf2ce9-134e-4e50-908b-c994cb659593",
   "metadata": {},
   "source": [
    "### **A) Distribution of Target Variable (`Churn`)**\n",
    "  \n",
    "We will analyze the distribution of the target variable, `Churn`, to understand if the dataset is balanced or imbalanced."
   ]
  },
  {
   "cell_type": "code",
   "execution_count": null,
   "id": "e3d9abb4-ff25-41c4-837c-9dc9457e1866",
   "metadata": {},
   "outputs": [],
   "source": [
    "main_color = ['#26577C','#E55604','#CDC2AE','orange','#867070']\n",
    "df_t = df['Churn'].value_counts().reset_index().set_axis(['Churn','Count'],axis=1)\n",
    "df_t['Churn'] = df_t['Churn'].replace({0:'Not Churn',1:'Churn'})\n",
    "z = [main_color[0],main_color[1]]\n",
    "fig = go.Figure(data=[go.Pie(labels=df_t['Churn'], values=df_t['Count'], hole=.3)]\n",
    "            ).update_layout(height=550,title={'text': 'Customer Churn','y':0.96,'x':0.485,'xanchor': 'center','yanchor': 'top'},font=dict( size=15), template='plotly_white'\n",
    "                            ).update_traces(marker=dict(colors=z))\n",
    "fig.show()"
   ]
  },
  {
   "cell_type": "markdown",
   "id": "4bbf62aa-5233-4701-95c8-fd13bfc8e08e",
   "metadata": {},
   "source": [
    "**Notes:**   \n",
    "- The dataset is somewhat imbalanced, with a significantly higher number of customers who did not churn (73.4 %).\n",
    "- This imbalance is common in customer churn datasets but We will have to take that into account while splitting the dataset.\n"
   ]
  },
  {
   "cell_type": "markdown",
   "id": "562bfb6d-cd76-499a-9041-1b2dc94116c8",
   "metadata": {},
   "source": [
    "--------------------------\n",
    "**Functions**"
   ]
  },
  {
   "cell_type": "code",
   "execution_count": null,
   "id": "c089aca9-15b3-4cff-8435-dd9814b885fb",
   "metadata": {},
   "outputs": [],
   "source": [
    "## I will put some functions here so as not to interfere\n",
    "\n",
    "# function to calculate categorical data association\n",
    "def get_corr_mat(df, f=chi2_contingency):\n",
    "    columns = df.columns\n",
    "    dm = pd.DataFrame(index=columns, columns=columns)\n",
    "    for var1, var2 in combinations(columns, 2):\n",
    "        cont_table = pd.crosstab(df[var1], df[var2], margins=False)\n",
    "        chi2_stat = cramers_v(cont_table.values)\n",
    "        dm.loc[var2, var1] = chi2_stat\n",
    "        dm.loc[var1, var2] = chi2_stat\n",
    "    dm.fillna(1, inplace=True)\n",
    "    return dm\n",
    "\n",
    "def cramers_v(confusion_matrix):\n",
    "    \"\"\" Calculate Cramer's V statistic for categorical-categorical association. \"\"\"\n",
    "    chi2 = ss.chi2_contingency(confusion_matrix)[0]\n",
    "    n = confusion_matrix.sum()\n",
    "    phi2 = chi2 / n\n",
    "    r, k = confusion_matrix.shape\n",
    "    phi2corr = max(0, phi2 - ((k-1)*(r-1))/(n-1))\n",
    "    rcorr = r - ((r-1)**2)/(n-1)\n",
    "    kcorr = k - ((k-1)**2)/(n-1)\n",
    "    return np.sqrt(phi2corr / min((kcorr-1), (rcorr-1)))\n",
    "\n",
    "#################################################################################\n",
    "\n",
    "# Categorical data visualization function\n",
    "def cat_viz(list_of_var):\n",
    "    bucket1 = [] \n",
    "    bucket2 = []\n",
    "    bucket3 = []\n",
    "    bucket4 = []\n",
    "    \n",
    "    for i in list_of_var:\n",
    "        bucket1 = bucket1 + [i] * len(df[i].unique())\n",
    "        for y in df[i].unique():\n",
    "            bucket2.append(y)\n",
    "            bucket3.append(df[(df['Churn'] == 'Yes') & (df[i] == y)][i].count())\n",
    "            bucket4.append(df[(df['Churn'] == 'No') & (df[i] == y)][i].count())\n",
    "    \n",
    "    bucket5 = []\n",
    "    for i, j in zip(bucket4, bucket3):\n",
    "        bucket5.append([round((i / (i + j)) * 100, 2), round((j / (i + j)) * 100, 2)])\n",
    "    \n",
    "    fig = go.Figure()\n",
    "\n",
    "    # Not Churn\n",
    "    fig.add_trace(go.Bar(\n",
    "        x=[bucket1, bucket2], \n",
    "        y=bucket4, \n",
    "        marker_color=main_color[0], \n",
    "        name=\"Not Churn\", \n",
    "        text=[f\"{j}<br>%{i[0]}\" for i, j in zip(bucket5, bucket4)]\n",
    "    ))\n",
    "\n",
    "    # Churn\n",
    "    fig.add_trace(go.Bar(\n",
    "        x=[bucket1, bucket2], \n",
    "        y=bucket3, \n",
    "        marker_color=main_color[1], \n",
    "        name=\"Churn\", \n",
    "        text=[f\"{j}<br>%{i[1]}\" for i, j in zip(bucket5, bucket3)]\n",
    "    ))\n",
    "\n",
    "    fig.update_layout(title_text=\"Categorical Data vs Churn\", \n",
    "                      title_x=0.5, template='plotly_white')\n",
    "\n",
    "    # Correlation matrix for the categorical variables\n",
    "    cat_corr = get_corr_mat(df[list_of_var + ['Churn']])\n",
    "    \n",
    "    # Plot the heatmap\n",
    "    plt.figure(figsize=(5, 5))\n",
    "    sns.heatmap(cat_corr, annot=True, fmt='.2f', square=True, cmap='Spectral')\n",
    "    plt.show()\n",
    "\n",
    "    return fig\n",
    "\n",
    "#########################################################################################\n",
    "\n",
    "# Numerical data visualization function\n",
    "def num_viz(var):\n",
    "    skew_ = round(skew(df[var], bias=False), 3)\n",
    "    \n",
    "    fig = px.histogram(\n",
    "        df, \n",
    "        x=var,\n",
    "        marginal=\"box\", \n",
    "        hover_data=df.columns, \n",
    "        color='Churn',\n",
    "        color_discrete_map={'No': main_color[0], 'Yes': main_color[1]}\n",
    "    ).update_layout(\n",
    "        autosize=True,\n",
    "        height=360, \n",
    "        width=900,\n",
    "        margin=dict(l=0, r=20, b=0, t=30, pad=10),\n",
    "        title_text=f\"<b>{var} | Skewness: {skew_}\",\n",
    "        title_x=0.5, \n",
    "        template='plotly_white'\n",
    "    )\n",
    "    return fig"
   ]
  },
  {
   "cell_type": "markdown",
   "id": "23932d1e-38a2-4fdd-9961-130764b92b5d",
   "metadata": {},
   "source": [
    "-----------------------------\n",
    "### **B) Demographics**\n",
    "\n",
    "- This analysis refers to customers. We will analyze **customer information** to discover the correlations and relation to `churn`."
   ]
  },
  {
   "cell_type": "markdown",
   "id": "969e4c69-07c6-498a-a16e-5886fefbcae3",
   "metadata": {},
   "source": [
    "#### Demographic features are all categorical:  \n",
    "\n",
    "`gender`, `SeniorCitizen`, `Partner`, `Dependents`"
   ]
  },
  {
   "cell_type": "code",
   "execution_count": null,
   "id": "9b713fe9-6a66-436d-a021-4a2d654d6342",
   "metadata": {},
   "outputs": [],
   "source": [
    "cat_viz(['gender', 'SeniorCitizen', 'Partner', 'Dependents']).show()"
   ]
  },
  {
   "cell_type": "markdown",
   "id": "6145628a-b0e2-4d49-b838-c547ccb267c2",
   "metadata": {},
   "source": [
    "**Notes**  \n",
    "\n",
    "- The proportion of Gender between Male and Female towards Churn looks identical, Gender has no association with customers who will churn or not.\n",
    "- It can be observed that the fraction of senior citizen is very less.\n",
    "- Senior Citizens are much more likely to churn.\n",
    "- Customers without partner are more likely to churn.\n",
    "- Customers who do not have dependents are more likely to churn.\n"
   ]
  },
  {
   "cell_type": "markdown",
   "id": "fe8b6895-a2b0-4ff3-b1d3-25fa9e4896ee",
   "metadata": {},
   "source": [
    "### **C) Service** \n",
    "\n",
    "- This analysis refers to `Service`. We will analyze service information to discover the correlations and relation to `churn`."
   ]
  },
  {
   "cell_type": "markdown",
   "id": "5093bb32-87c5-4d36-a798-f7cf930c3cef",
   "metadata": {},
   "source": [
    "#### All Features are categorical:\n",
    "\n",
    "`PhoneService`,`MultipleLines`, `InternetService`, `OnlineSecurity`, `OnlineBackup`, `DeviceProtection`, `TechSupport`, `StreamingTV`, `StreamingMovies`"
   ]
  },
  {
   "cell_type": "code",
   "execution_count": null,
   "id": "53e9407e-005e-4aa0-856e-4b353c9f28b0",
   "metadata": {},
   "outputs": [],
   "source": [
    "# List of service-related columns\n",
    "serv = ['PhoneService', 'MultipleLines', 'InternetService', 'OnlineSecurity', \n",
    "        'OnlineBackup', 'DeviceProtection', 'TechSupport', 'StreamingTV', 'StreamingMovies']\n",
    "\n",
    "map_serv = {'Yes':1,'No':0,'No phone service':0,'DSL':1,'Fiber optic':1,'No internet service':0}\n",
    "\n",
    "\n",
    "# Data frame for visualization of Count of Services usage\n",
    "df_serv = pd.DataFrame(pd.DataFrame([df[i].map(map_serv) for i in serv]).T.sum(axis=0)).reset_index().set_axis(\n",
    "    ['Services','Count'], axis=1).sort_values(by='Count', ascending=False, ignore_index=True)\n",
    "\n",
    "# Highlight the top 3 services\n",
    "df_serv['Color'] = main_color[0]\n",
    "df_serv['Color'][:3] = main_color[1]  # highlight top 3 services\n",
    "\n",
    "# Visualization of Count of Services usage\n",
    "fig = go.Figure([go.Bar(y=df_serv['Services'], x=df_serv['Count'],\n",
    "                        text=[f'{i} ({j}%)' for i, j in zip(df_serv['Count'], \n",
    "                        [round((i / df_serv['Count'].sum()) * 100, 2) for i in df_serv['Count']])],\n",
    "                        textposition='outside',\n",
    "                        marker={'color': df_serv['Color']},\n",
    "                        orientation='h')])\n",
    "\n",
    "# Update layout\n",
    "fig.update_layout(autosize=True,\n",
    "                  height=500,\n",
    "                  margin=dict(l=10, r=10, b=10, t=40, pad=0),\n",
    "                  xaxis_range=[0, df_serv['Count'].max() + (df_serv['Count'].max() / 2)],\n",
    "                  template='plotly_white',\n",
    "                  title=dict(text='Count of Services Usage', font=dict(size=20), x=0.5),\n",
    "                  yaxis={'categoryorder': 'array', 'categoryarray': df_serv.sort_values(by='Count', ascending=True)['Services'].to_list()})\n",
    "\n",
    "# Show the figure\n",
    "fig.show()\n"
   ]
  },
  {
   "cell_type": "markdown",
   "id": "89ae9c16-8162-484f-af8e-ccc87587dca8",
   "metadata": {},
   "source": [
    "**Notes**  \n",
    "\n",
    "- `PhoneService`, `InternetService`, and `MultipleLines` are the 3 most popular services, next we will try to find out how these three variables relate to `churn`"
   ]
  },
  {
   "cell_type": "code",
   "execution_count": null,
   "id": "474f54e4-7ccc-47c8-8a0d-2a3a0dc2cffb",
   "metadata": {},
   "outputs": [],
   "source": [
    "cat_viz(['PhoneService','InternetService','MultipleLines']).show()"
   ]
  },
  {
   "cell_type": "markdown",
   "id": "5bf36405-02e6-48ad-97fc-b1f3d7ff655b",
   "metadata": {},
   "source": [
    "**Notes**  \n",
    "- Customers who use fiber optic internet services have a high chance of Churn."
   ]
  },
  {
   "cell_type": "code",
   "execution_count": null,
   "id": "8ef56bac-e571-4155-8a57-63c7d5b4592e",
   "metadata": {},
   "outputs": [],
   "source": [
    "#cat_viz(['StreamingMovies','StreamingTV', 'OnlineBackup']).show()"
   ]
  },
  {
   "cell_type": "code",
   "execution_count": null,
   "id": "dd1b7fdb-2e18-48d2-99f7-53215b25ce00",
   "metadata": {},
   "outputs": [],
   "source": [
    "#cat_viz(['DeviceProtection', 'TechSupport', 'OnlineSecurity']).show()"
   ]
  },
  {
   "cell_type": "markdown",
   "id": "da846d50-9eb1-46a6-8349-9fa835d5a7d1",
   "metadata": {},
   "source": [
    "### D) Account \n",
    "- These analysis refers to `customer Account` and the process he follow to use the service. We will analyze Account information to discover the correlations and relation to `churn`.\n",
    "\n"
   ]
  },
  {
   "cell_type": "markdown",
   "id": "e70b99c7-4554-46b9-8e32-7d24583d1370",
   "metadata": {},
   "source": [
    "#### For categorical features \n",
    "\n",
    "`Contract`,  `PaymentMethod`, `PaperlessBilling`"
   ]
  },
  {
   "cell_type": "code",
   "execution_count": null,
   "id": "74dae7f0-6bdb-4622-8d4b-af9028782852",
   "metadata": {},
   "outputs": [],
   "source": [
    "custom_colors = ['#26577C','#E55604','#CDC2AE'] \n",
    "\n",
    "fig = px.histogram(df, \n",
    "                   x=\"Churn\", \n",
    "                   color=\"Contract\", \n",
    "                   barmode=\"group\", \n",
    "                   title=\"<b>Customer Contract Distribution<b>\",\n",
    "                   color_discrete_sequence=custom_colors)\n",
    "\n",
    "# Update layout\n",
    "fig.update_layout(width=700, height=500, bargap=0.1)\n",
    "\n",
    "# Show the figure\n",
    "fig.show()\n"
   ]
  },
  {
   "cell_type": "markdown",
   "id": "643c00e8-84e9-4aed-9171-6115ee4de989",
   "metadata": {},
   "source": [
    "**Notes** \n",
    "- About `75%` of customer with Month-to-Month Contract opted to move out as compared to `13%` of customrs with One Year Contract and `3%` with Two Year Contract."
   ]
  },
  {
   "cell_type": "code",
   "execution_count": null,
   "id": "e93b55cd-da45-4aa6-9483-9cb71362bbea",
   "metadata": {},
   "outputs": [],
   "source": [
    "labels = df['PaymentMethod'].unique()\n",
    "values = df['PaymentMethod'].value_counts()\n",
    "\n",
    "custom_colors_2 = ['#26577C','#E55604','#CDC2AE','orange'] \n",
    "\n",
    "fig = go.Figure(data=[go.Pie(labels=labels, values=values, hole=.3, \n",
    "                             marker=dict(colors=custom_colors_2))])\n",
    "fig.update_layout(title_text=\"<b>Payment Method Distribution</b>\")\n",
    "fig.show()"
   ]
  },
  {
   "cell_type": "code",
   "execution_count": null,
   "id": "b4c9419e-10bf-4ad5-b4bb-df0044ebbef1",
   "metadata": {},
   "outputs": [],
   "source": [
    "custom_colors_3 = {\n",
    "    'Electronic check': '#26577C',\n",
    "    'Mailed check': '#E55604',\n",
    "    'Bank transfer (automatic)': '#CDC2AE',\n",
    "    'Credit card (automatic)': 'orange'\n",
    "}\n",
    "\n",
    "fig = px.histogram(df, \n",
    "                   x=\"Churn\", \n",
    "                   color=\"PaymentMethod\", \n",
    "                   title=\"<b>Customer Payment Method distribution w.r.t. Churn</b>\", \n",
    "                   color_discrete_map=custom_colors_3)\n",
    "\n",
    "# Update layout\n",
    "fig.update_layout(width=700, height=500, bargap=0.1)\n",
    "\n",
    "# Show the figure\n",
    "fig.show()\n"
   ]
  },
  {
   "cell_type": "markdown",
   "id": "b72973c3-ae01-454c-93ae-be13f5dddfda",
   "metadata": {},
   "source": [
    "**Notes:**  \n",
    "- Major customers who moved out were having Electronic Check as Payment Method.\n",
    "- Customers who opted for Credit-Card automatic transfer or Bank Automatic Transfer and Mailed Check as Payment Method were less likely to move out."
   ]
  },
  {
   "cell_type": "code",
   "execution_count": null,
   "id": "4b693979-fa20-4fed-921e-6df261f23c40",
   "metadata": {},
   "outputs": [],
   "source": [
    "color_map = {\"Yes\": '#26577C', \"No\": '#E55604'}\n",
    "fig = px.histogram(df, x=\"Churn\", color=\"PaperlessBilling\",  title=\"<b>Chrun distribution w.r.t. Paperless Billing</b>\", color_discrete_map=color_map)\n",
    "fig.update_layout(width=700, height=500, bargap=0.1)\n",
    "fig.show()"
   ]
  },
  {
   "cell_type": "markdown",
   "id": "2fc6144a-f0af-44d0-aae6-a5d01338e0e2",
   "metadata": {},
   "source": [
    "**Notes:**  \n",
    "- Customers with Paperless Billing are most likely to churn.\n"
   ]
  },
  {
   "cell_type": "markdown",
   "id": "9c26dbca-0017-479f-8cfb-f1a15a03c5eb",
   "metadata": {},
   "source": [
    "#### For Numerical features:"
   ]
  },
  {
   "cell_type": "code",
   "execution_count": null,
   "id": "9a5acea0-9c9e-4fe1-bbf8-9ec9fd727794",
   "metadata": {},
   "outputs": [],
   "source": [
    "num_viz('tenure').show()"
   ]
  },
  {
   "cell_type": "markdown",
   "id": "a1854078-216c-4b5b-8c05-437cbe912fd9",
   "metadata": {},
   "source": [
    "**Notes:**\n",
    "- New customers are more likely to churn."
   ]
  },
  {
   "cell_type": "code",
   "execution_count": null,
   "id": "6899c746-cf72-42b4-8c38-3b440be4e3cf",
   "metadata": {},
   "outputs": [],
   "source": [
    "num_viz('MonthlyCharges').show()"
   ]
  },
  {
   "cell_type": "markdown",
   "id": "c4930e4b-6685-4b29-9254-b66db6e926db",
   "metadata": {},
   "source": [
    "**Notes:**  \n",
    "- Customers with higher Monthly Charges are also more likely to churn."
   ]
  },
  {
   "cell_type": "code",
   "execution_count": null,
   "id": "4fda9003-fee9-4f3c-ad3d-6eeb74a6179c",
   "metadata": {},
   "outputs": [],
   "source": [
    "num_viz('TotalCharges').show()"
   ]
  },
  {
   "cell_type": "markdown",
   "id": "8e2459a8-90f6-4a7e-bace-682cf0591d61",
   "metadata": {},
   "source": [
    "**Notes:**\n",
    "- If we look at the marginal boxplot visualization above, it can be seen that `tenure` and `MonthlyCharges` do not have different data distribution shapes,  \n",
    "  This is one indication that this feature will be a good predictor."
   ]
  },
  {
   "cell_type": "markdown",
   "id": "3e64a65a-66a8-4a72-8e9e-3b45e1d04db5",
   "metadata": {},
   "source": [
    "## Data Preparation:\n",
    "<a id=\"Data-Preparation:\"></a>"
   ]
  },
  {
   "cell_type": "markdown",
   "id": "2503ff51-6c83-4323-b4af-10f092bfc466",
   "metadata": {},
   "source": [
    "### A) Checking the Unique Values for Object Features:"
   ]
  },
  {
   "cell_type": "code",
   "execution_count": null,
   "id": "09c1f475-f695-430d-9894-c6cc5f0db982",
   "metadata": {},
   "outputs": [],
   "source": [
    "# Select only object columns\n",
    "object_columns = df.select_dtypes(include=['object'])\n",
    "\n",
    "# Get unique values and their counts for each object column\n",
    "unique_values_info = {col: {\n",
    "    \"unique_values\": object_columns[col].unique(),\n",
    "    \"num_unique\": object_columns[col].nunique()\n",
    "} for col in object_columns.columns}\n",
    "\n",
    "# Print the unique values and their counts\n",
    "for column, info in unique_values_info.items():\n",
    "    print(f\"Unique values in '{column}':\")\n",
    "    print(info[\"unique_values\"])\n",
    "    print(f\"Number of unique values: {info['num_unique']}\")\n",
    "    print()  # Print a new line for better readability"
   ]
  },
  {
   "cell_type": "markdown",
   "id": "82972106-0f5f-411d-bee2-40a67c04a0c8",
   "metadata": {},
   "source": [
    "### B) Standardizing Categorical Features for Consistency:\n",
    "\n",
    "- In the `OnlineSecurity` and Similar Features, we observed three unique values:\n",
    "  - **Yes**: Indicates the customer has OnlineSecurity.\n",
    "  - **No**: Indicates the customer does not have OnlineSecurity.\n",
    "  - **No internet service**: Indicates the customer does not have any Internet service.\n",
    "\n",
    "- To enhance data consistency:\n",
    "  - We will replace the **No internet service** value with **No**, as it aligns with the binary nature of the feature.\n",
    "  - This transformation will improve the clarity and usability of the data for analysis and machine learning models.\n",
    "\n",
    "- Additionally, since we have a separate column **InternetService** that indicates whether the customer has internet service, standardizing these values helps maintain uniformity across related features."
   ]
  },
  {
   "cell_type": "code",
   "execution_count": null,
   "id": "753698b9-3cd9-42fe-bd07-68a07febb9dd",
   "metadata": {},
   "outputs": [],
   "source": [
    "df.loc[df['InternetService'] == 'No', \n",
    "                     ['InternetService', 'OnlineSecurity', 'OnlineBackup', \n",
    "                      'DeviceProtection', 'TechSupport', 'StreamingTV', \n",
    "                      'StreamingMovies']]"
   ]
  },
  {
   "cell_type": "markdown",
   "id": "4bab992a-0fba-4488-98e3-bf0cfde55f43",
   "metadata": {},
   "source": [
    "- Similar to the `MultipleLines` feature case we are appling the same solution to the similar features"
   ]
  },
  {
   "cell_type": "code",
   "execution_count": null,
   "id": "8429361d-f28d-4b5c-96e4-209721c0a7ca",
   "metadata": {},
   "outputs": [],
   "source": [
    "# List of columns to replace 'No internet service' and 'No phone service:' with 'No'\n",
    "columns_to_replace = [\n",
    "    'MultipleLines',\n",
    "    'OnlineSecurity',\n",
    "    'OnlineBackup',\n",
    "    'DeviceProtection',\n",
    "    'TechSupport',\n",
    "    'StreamingTV',\n",
    "    'StreamingMovies'\n",
    "]\n",
    "\n",
    "# Replace 'No internet service' with 'No' in specified columns\n",
    "for column in columns_to_replace:\n",
    "    df[column] = df[column].replace({'No internet service': 'No', 'No phone service': 'No'})"
   ]
  },
  {
   "cell_type": "markdown",
   "id": "a2829d00-0923-4685-8a12-6d3029583ee0",
   "metadata": {},
   "source": [
    "### C) Convert Binary Categorical Variables:"
   ]
  },
  {
   "cell_type": "code",
   "execution_count": null,
   "id": "d8a2e4fc-8735-4dc7-a9e6-a5f5868a6b6b",
   "metadata": {},
   "outputs": [],
   "source": [
    "# Convert 'Yes'/'No' columns to 0 and 1\n",
    "binary_columns = [\n",
    "    'Partner',\n",
    "    'Dependents',\n",
    "    'PhoneService',\n",
    "    'MultipleLines',\n",
    "    'OnlineSecurity',\n",
    "    'OnlineBackup',\n",
    "    'DeviceProtection',\n",
    "    'TechSupport',\n",
    "    'StreamingTV',\n",
    "    'StreamingMovies',\n",
    "    'PaperlessBilling',\n",
    "    'Churn'\n",
    "]\n",
    "\n",
    "# Mapping Yes/No to 1/0\n",
    "for col in binary_columns:\n",
    "    df[col] = df[col].map({'Yes': 1, 'No': 0})\n",
    "\n",
    "# Convert 'gender' column separately\n",
    "df['gender'] = df['gender'].map({'Male': 1, 'Female': 0})\n",
    "\n",
    "# Check data types\n",
    "print(df.dtypes)"
   ]
  },
  {
   "cell_type": "markdown",
   "id": "a2badbe4-a00e-4ad0-8e52-e01fde6702eb",
   "metadata": {},
   "source": [
    "-------------------------\n",
    "## EDA for Machine Learning:\n",
    "<a id=\"EDA-for-Machine-Learning:\"></a>"
   ]
  },
  {
   "cell_type": "code",
   "execution_count": null,
   "id": "d54979a4-aa27-407a-a442-8415b870804d",
   "metadata": {},
   "outputs": [],
   "source": [
    "# Deviding the data into two groups by creating two masks to easly select them \n",
    "churn = df['Churn'] == 1\n",
    "no_churn = df['Churn'] == 0"
   ]
  },
  {
   "cell_type": "code",
   "execution_count": null,
   "id": "3a4396dc-77bf-4436-99d6-18afb5b776c2",
   "metadata": {},
   "outputs": [],
   "source": [
    "# Displaying the mean for numeric features, to cross-examine them according to churn status.\n",
    "means = [df[churn].mean(numeric_only=True),df[no_churn].mean(numeric_only=True)]\n",
    "pd.DataFrame(means, index=['churn', 'no_churn'])"
   ]
  },
  {
   "cell_type": "markdown",
   "id": "6bcd09e9-2c19-40c4-9902-f30b61c7b46b",
   "metadata": {},
   "source": [
    "--------------------------\n",
    "**Functions**"
   ]
  },
  {
   "cell_type": "code",
   "execution_count": null,
   "id": "c3084d2c-8c53-43ff-9c26-70a30f28f987",
   "metadata": {},
   "outputs": [],
   "source": [
    "# making a function to plot a histogram for each group against 1 feature\n",
    "def hist_1d(df, col_name, title= None, xlabel= None, ylabel=None):\n",
    "    \n",
    "    df[col_name][no_churn].hist(alpha=0.7, label= 'No churn', color= '#26577C');\n",
    "    df[col_name][churn].hist(alpha=0.7, label= 'churn', color= '#E55604');\n",
    "    \n",
    "    # title and labels\n",
    "    plt.title(title, fontsize = 20)\n",
    "    plt.xlabel(xlabel,fontsize = 15)\n",
    "    plt.ylabel(ylabel, fontsize = 15)\n",
    "    \n",
    "    # legend\n",
    "    plt.legend();"
   ]
  },
  {
   "cell_type": "code",
   "execution_count": null,
   "id": "a5067eb1-2c09-4959-8369-5f68f99d0a9d",
   "metadata": {},
   "outputs": [],
   "source": [
    "# making a function to plot a bar chart for each group against 2 variables\n",
    "def bar_2d(df, x_col_name, y_col_name, title= None, xlabel= None, ylabel=None):\n",
    "    \n",
    "    df[no_churn].groupby(x_col_name)[y_col_name].mean().plot(kind='bar', color='#26577C', alpha=0.7, label= 'No churn');\n",
    "    df[churn].groupby(x_col_name)[y_col_name].mean().plot(kind='bar', color='#E55604', alpha=0.7, label= 'churn');\n",
    "    \n",
    "    plt.title(title, fontsize = 20)\n",
    "    plt.xlabel(xlabel,fontsize = 15)\n",
    "    plt.ylabel(ylabel, fontsize = 15)\n",
    "    plt.legend();\n",
    "    plt.grid(visible=True);"
   ]
  },
  {
   "cell_type": "code",
   "execution_count": null,
   "id": "62015d8f-04c6-4dc5-b344-ec4b4a1acb8f",
   "metadata": {},
   "outputs": [],
   "source": [
    "# making a function to plot a bar chart of the proportion of each group against 1 feature\n",
    "def plot_proportions(df, col_name, width, title= None, xlabel= None, ylabel=None):\n",
    "    counts = df.groupby(['Churn', col_name]).count().sort_index().iloc[:,0]\n",
    "    total_counts = df.groupby('Churn').count().sort_index().iloc[:,0]\n",
    "    churn_proportions = counts[1] / total_counts[1]\n",
    "    no_churn_proportions = counts[0] / total_counts[0]\n",
    "    category_devider = np.arange(len(no_churn_proportions))\n",
    "    \n",
    "\n",
    "    # plot bars\n",
    "    no_churn_bars = plt.bar(category_devider, no_churn_proportions, width, alpha=1, label= 'No churn', color= '#26577C')\n",
    "    churn_bars = plt.bar(category_devider + width, churn_proportions, width, alpha=1, label= 'Churn', color= '#E55604')\n",
    "\n",
    "    # title and labels\n",
    "    plt.title(title, fontsize = 20)\n",
    "    plt.xlabel(xlabel,fontsize = 15)\n",
    "    plt.ylabel(ylabel, fontsize = 15)\n",
    "    plt.grid(visible= True);\n",
    "    locations = category_devider + width / 2  # xtick locations\n",
    "    labels = np.sort(df[col_name].unique())  # xtick labels\n",
    "    plt.xticks(locations, labels)\n",
    "\n",
    "    # legend\n",
    "    plt.legend();"
   ]
  },
  {
   "cell_type": "markdown",
   "id": "67fe4be1-2dbe-4a34-99d2-dc64eff9cd94",
   "metadata": {},
   "source": [
    "------------------------"
   ]
  },
  {
   "cell_type": "code",
   "execution_count": null,
   "id": "34b60d2d-72b3-4b0c-acbd-207e3c06e326",
   "metadata": {},
   "outputs": [],
   "source": [
    "plt.scatter(df['MonthlyCharges'], df['TotalCharges'], c= df['Churn'], cmap= 'coolwarm',edgecolors='k')\n",
    "plt.title('The relaionship between MonthlyCharges and TotalCharges', fontsize = 20)\n",
    "plt.xlabel('MonthlyCharges',fontsize = 15)\n",
    "plt.ylabel('TotalCharges', fontsize = 15)\n",
    "plt.grid(visible=True);\n",
    "plt.show()"
   ]
  },
  {
   "cell_type": "markdown",
   "id": "c79ab13a-1d1c-4520-82fb-4884334ad006",
   "metadata": {},
   "source": [
    "**Notes:**\n",
    "- Most churned customers have high monthly charges but low total charges, this means that they churn early in thier tenure."
   ]
  },
  {
   "cell_type": "code",
   "execution_count": null,
   "id": "17be01f3-41e0-4aba-b874-754a6834a68f",
   "metadata": {},
   "outputs": [],
   "source": [
    "#grouping customers' tenures into 4 quantiles \n",
    "df['tenure_bins'] = pd.qcut(df['tenure'].sort_values(), q=4, labels=['Q1', 'Q2', 'Q3', 'Q4'])"
   ]
  },
  {
   "cell_type": "code",
   "execution_count": null,
   "id": "9aa4acca-97c9-4b2b-9737-ad334edafc63",
   "metadata": {},
   "outputs": [],
   "source": [
    "plt.figure(figsize=(18, 6))\n",
    "\n",
    "plt.subplot(1, 2, 1)\n",
    "bar_2d(df, 'tenure_bins', 'MonthlyCharges', 'Relationship between tenure bins and mean MonthlyCharges', 'Tenure bins', 'Mean MonthlyCharges')\n",
    "plt.subplot(1, 2, 2)\n",
    "bar_2d(df, 'tenure_bins', 'TotalCharges', 'Relationship between tenure bins and mean TotalCharges', 'Tenure bins', 'Mean TotalCharges')\n",
    "\n",
    "plt.tight_layout()\n",
    "plt.show()"
   ]
  },
  {
   "cell_type": "markdown",
   "id": "14539926-691c-461b-af50-4cccb45a07ac",
   "metadata": {},
   "source": [
    "**Notes:**\n",
    "- The average monthly and total charges in churned customer are higher than not-churned customers across all tenure bins,  \n",
    "**Which means:** as the  customer charges gets higher, the propablity of churn gets higher too"
   ]
  },
  {
   "cell_type": "code",
   "execution_count": null,
   "id": "8e16083f-84c4-4abf-8ae7-261d894a4cbc",
   "metadata": {},
   "outputs": [],
   "source": [
    "plt.figure(figsize=(18, 10))\n",
    "\n",
    "plt.subplot(2, 2, 1)\n",
    "bar_2d(df, 'OnlineSecurity', 'MonthlyCharges','Relationship between OnlineSecurity and mean MonthlyCharges', 'OnlineSecurity', 'Mean MonthlyCharges')\n",
    "plt.subplot(2, 2, 2)\n",
    "bar_2d(df, 'OnlineBackup', 'MonthlyCharges','Relationship between OnlineBackup and mean MonthlyCharges', 'OnlineBackup', 'Mean MonthlyCharges')\n",
    "plt.subplot(2, 2, 3)\n",
    "bar_2d(df, 'DeviceProtection', 'MonthlyCharges','Relationship between DeviceProtection and mean MonthlyCharges', 'DeviceProtection', 'Mean MonthlyCharges')\n",
    "plt.subplot(2, 2, 4)\n",
    "bar_2d(df, 'TechSupport', 'MonthlyCharges','Relationship between TechSupport and mean MonthlyCharges', 'TechSupport', 'Mean MonthlyCharges')\n",
    "\n",
    "\n",
    "plt.tight_layout()\n",
    "plt.show()"
   ]
  },
  {
   "cell_type": "markdown",
   "id": "51c089e6-ccbd-47f7-9283-65b9217f2e74",
   "metadata": {},
   "source": [
    "**Notes:**\n",
    "- Churn customers that don't subscribe to services on average pay significantly higher than non-churn customers."
   ]
  },
  {
   "cell_type": "code",
   "execution_count": null,
   "id": "e31187ab-c0b0-47b6-b3dd-81f10860626e",
   "metadata": {},
   "outputs": [],
   "source": [
    "plt.figure(figsize=(18, 10))\n",
    "\n",
    "plt.subplot(2, 2, 1)\n",
    "bar_2d(df, 'gender', 'MonthlyCharges','Relationship between gender and mean MonthlyCharges', 'Gender', 'Mean MonthlyCharges')\n",
    "plt.subplot(2, 2, 2)\n",
    "bar_2d(df, 'SeniorCitizen', 'MonthlyCharges','Relationship between SeniorCitizen and mean MonthlyCharges', 'SeniorCitizen', 'Mean MonthlyCharges')\n",
    "plt.subplot(2, 2, 3)\n",
    "bar_2d(df, 'Partner', 'MonthlyCharges','Relationship between having a Partner and mean MonthlyCharges', 'Partner', 'Mean MonthlyCharges')\n",
    "plt.subplot(2, 2, 4)\n",
    "bar_2d(df, 'Dependents', 'MonthlyCharges','Relationship between having Dependents and mean MonthlyCharges', 'Dependents', 'Mean MonthlyCharges')\n",
    "\n",
    "\n",
    "plt.tight_layout()\n",
    "plt.show()"
   ]
  },
  {
   "cell_type": "markdown",
   "id": "8be29d50-496a-49a0-b744-3d5af4569f16",
   "metadata": {},
   "source": [
    "**Notes:**\n",
    "- Mean Monthly Charges are highr for churn customers along all demogarphic metrics,  \n",
    "**Which indicates** an association between monthly charges and churn"
   ]
  },
  {
   "cell_type": "markdown",
   "id": "480880ad-18d5-40a8-9869-0dedde624164",
   "metadata": {},
   "source": [
    "----------------------"
   ]
  },
  {
   "cell_type": "markdown",
   "id": "785f8233-c19e-46b6-b2c8-48fec29aa718",
   "metadata": {},
   "source": [
    "### **Key Insights**\n",
    "<a id='Key-Insights'></a>\n",
    "\n",
    "\n",
    "-------------\n",
    "\n",
    "1. **Customer Distribution**:\n",
    "   - Gender and partner status have no significant effect on churn.\n",
    "   - Most customers are not senior citizens, and many have dependents.\n",
    "\n",
    "2. **Service Subscription Patterns**:\n",
    "   - A small percentage of customers lack phone service.\n",
    "   - Most customers do not subscribe to optional services like Online Security, Online Backup, Device Protection, Tech Support, Streaming TV, or Streaming Movies.\n",
    "\n",
    "3. **Churn Characteristics**:\n",
    "   - **Higher Churn Rates**:\n",
    "     - Senior citizens, single people, and those without dependents are more likely to churn.\n",
    "     - Customers using fiber optic internet show the highest churn rates.\n",
    "     - Customers with month-to-month contracts and paperless billing have significantly higher churn rates.\n",
    "     - Most churned customers have higher monthly charges but lower total charges, indicating early churn.\n",
    "\n",
    "   - **Lower Churn Rates**:\n",
    "     - Yearly or biyearly contract customers are less likely to churn.\n",
    "     - Customers with online security and related services (e.g., Online Backup, Device Protection, Tech Support) have lower churn rates.\n",
    "   - **No Significant Impact**:\n",
    "     - Phone service, multiple lines, and streaming services (TV or movies) do not show significant influence on churn.\n",
    "\n",
    "4. **Payment and Billing**:\n",
    "   - Most churned customers use electronic checks, while non-churned customers are evenly distributed across payment methods.\n",
    "   - Customers with paperless billing are more prone to churn.\n",
    "\n",
    "5. **Tenure and Charges**:\n",
    "   - Churn rates decrease as customer tenure increases.\n",
    "   - Churned customers tend to have higher monthly charges across all demographic groups.\n",
    "   - Churn likelihood increases with higher monthly and total charges.\n"
   ]
  },
  {
   "cell_type": "markdown",
   "id": "a0179453-bcff-4930-a898-b76a744fa30b",
   "metadata": {},
   "source": [
    "### **Recommenditions**\n",
    "<a id='Recommenditions'></a>\n",
    "------------\n",
    "\n",
    "1. **Enhance Customer Retention for Senior Citizens and Singles**:\n",
    "   - Develop targeted retention programs for senior citizens and single customers, offering incentives like discounts or personalized plans to reduce churn rates in these segments.\n",
    "\n",
    "2. **Promote Long-Term Contracts**:\n",
    "   - Encourage customers to switch from month-to-month contracts to longer-term contracts (yearly or biyearly) by offering attractive discounts or bundled services, as longer contracts show lower churn rates.\n",
    "\n",
    "3. **Increase Value for High-Charge Customers**:\n",
    "   - Provide more value for customers with higher monthly charges, such as premium services or loyalty rewards. These customers are at a higher risk of early churn, so adding perceived value could improve retention.\n",
    "\n",
    "4. **Improve Service Uptake**:\n",
    "   - Highlight the benefits of subscribing to services like Online Security, Tech Support, and Device Protection, as customers who use these services show lower churn rates.\n",
    "\n",
    "5. **Address Payment Method Issues**:\n",
    "   - Investigate why electronic check users are more prone to churn and consider offering alternative payment options with better incentives for these customers.\n",
    "\n",
    "6. **Targeted Campaigns for High-Tenure Customers**:\n",
    "   - Create targeted campaigns for new customers to reach high-tenure status, as higher tenure correlates with lower churn rates. Focus on providing early value and engagement to retain them longer.\n",
    "\n",
    "7. **Analyze and Address Billing Preferences**:\n",
    "   - Assess why paperless billing is associated with higher churn and explore ways to improve the experience for customers using paperless billing, such as more user-friendly payment interfaces or billing transparency.\n",
    "\n",
    "By addressing these key areas, the company can reduce churn, improve customer satisfaction, and increase long-term revenue.\n"
   ]
  },
  {
   "cell_type": "markdown",
   "id": "d30b1d4a-cf17-4ef4-91fe-a5965214ce93",
   "metadata": {},
   "source": [
    "-----------------------------\n",
    "## 6- Data Preprocessing and Feature Engineering\n",
    "<a id='Data-Preprocessing-and-Feature-Engineering'></a>"
   ]
  },
  {
   "cell_type": "markdown",
   "id": "b1077544-33eb-4527-b36d-88d4967d44d6",
   "metadata": {},
   "source": [
    "### One-Hot Encoding and Creating Dummy Variables:"
   ]
  },
  {
   "cell_type": "code",
   "execution_count": null,
   "id": "865113f7-7ed5-45bf-896f-2aa9f12502b5",
   "metadata": {},
   "outputs": [],
   "source": [
    "df = df.drop('tenure_bins', axis=1)"
   ]
  },
  {
   "cell_type": "code",
   "execution_count": null,
   "id": "5a58dd03-c7e1-4da2-9223-b30d338a8a7a",
   "metadata": {},
   "outputs": [],
   "source": [
    "# One-hot encode the multi-category columns\n",
    "df = pd.get_dummies(df, columns=['InternetService', 'Contract', 'PaymentMethod'], drop_first=True)\n",
    "# 'drop_first=True' ensures that one category is dropped to avoid multicollinearity\n",
    "# Convert all boolean columns to integers (True -> 1, False -> 0)\n",
    "df = df.astype({col: 'int64' for col in df.select_dtypes(include='bool').columns})"
   ]
  },
  {
   "cell_type": "code",
   "execution_count": null,
   "id": "5e8febfe-d2e0-4fa5-9d49-3814bb528f6f",
   "metadata": {},
   "outputs": [],
   "source": [
    "print(df.info())\n",
    "print(df.shape)"
   ]
  },
  {
   "cell_type": "code",
   "execution_count": null,
   "id": "7806ce91-aa8d-4fd4-8602-57dffb258f18",
   "metadata": {},
   "outputs": [],
   "source": [
    "df.describe()"
   ]
  },
  {
   "cell_type": "code",
   "execution_count": null,
   "id": "c9c3db86-f900-4a1d-9936-ae8580149d04",
   "metadata": {},
   "outputs": [],
   "source": [
    "X= df.drop(['Churn'],axis=1)\n",
    "y = df['Churn']\n",
    "X.info()"
   ]
  },
  {
   "cell_type": "code",
   "execution_count": null,
   "id": "eb123312-ef56-4918-9d6e-acd52eeb3eff",
   "metadata": {},
   "outputs": [],
   "source": [
    "df_n = df.drop('customerID', axis=1)\n",
    "plt.figure(figsize=(14,7))\n",
    "df_n.corr()['Churn'].sort_values(ascending = False)"
   ]
  },
  {
   "cell_type": "markdown",
   "id": "90164fc8-9611-48aa-bcf2-51eef30751de",
   "metadata": {},
   "source": [
    "### Splitting Data:"
   ]
  },
  {
   "cell_type": "code",
   "execution_count": null,
   "id": "28012a95-3ac5-4f02-9f47-e8f628425013",
   "metadata": {},
   "outputs": [],
   "source": [
    "X_train, X_test, y_train, y_test = train_test_split(X, y, test_size=0.1, random_state=101)\n",
    "Test_CustomerIDs = X_test['customerID']\n",
    "X_train.drop(['customerID'],axis=1,inplace=True)\n",
    "X_test.drop(['customerID'],axis=1,inplace=True)"
   ]
  },
  {
   "cell_type": "code",
   "execution_count": null,
   "id": "0f7816a7-5ca0-4b80-8253-04f4f21898fa",
   "metadata": {},
   "outputs": [],
   "source": [
    "def distplot(feature, frame, color=main_color[1]):\n",
    "    plt.figure(figsize=(8,3))\n",
    "    plt.title(\"Distribution for {}\".format(feature))\n",
    "    ax = sns.distplot(frame[feature], color= color)"
   ]
  },
  {
   "cell_type": "code",
   "execution_count": null,
   "id": "7ba6dd9e-c0bb-4595-98f7-710db69963fd",
   "metadata": {},
   "outputs": [],
   "source": [
    "num_cols = [\"tenure\", 'MonthlyCharges', 'TotalCharges']\n",
    "for feat in num_cols: distplot(feat, df)\n",
    "plt.show()"
   ]
  },
  {
   "cell_type": "markdown",
   "id": "907606ae-21af-4fdc-9205-72b78dab370d",
   "metadata": {},
   "source": [
    "**Notes:**\n",
    "- Since the numerical features are distributed over different value ranges, I will use standard scalar to scale them down to the same range."
   ]
  },
  {
   "cell_type": "markdown",
   "id": "5f55bd1f-acca-4d25-a399-6be943e60ceb",
   "metadata": {},
   "source": [
    "### Scaling Data:"
   ]
  },
  {
   "cell_type": "code",
   "execution_count": null,
   "id": "df6408e8-baf0-418a-97c0-f3ec56cb4245",
   "metadata": {},
   "outputs": [],
   "source": [
    "df_std = pd.DataFrame(StandardScaler().fit_transform(df[num_cols].astype('float64')),\n",
    "                       columns=num_cols)\n",
    "for feat in num_cols: distplot(feat, df_std, color=main_color[0])\n",
    "plt.show()"
   ]
  },
  {
   "cell_type": "code",
   "execution_count": null,
   "id": "9f286b99-d0b6-4ef3-a811-1a446ec0d792",
   "metadata": {},
   "outputs": [],
   "source": [
    "scaler = StandardScaler()\n",
    "scaled_X_train = scaler.fit_transform(X_train)\n",
    "scaled_X_test = scaler.transform(X_test)"
   ]
  },
  {
   "cell_type": "markdown",
   "id": "0a011f68-ff95-4da1-b90a-0f167d903b06",
   "metadata": {},
   "source": [
    "--------------\n",
    "# 7- Machine Learning Modeling\n",
    "<a id=\"Machine-Learning-Modeling\"></a>"
   ]
  },
  {
   "cell_type": "markdown",
   "id": "5bd68e50-b66e-4dfb-b80d-f11d57b3e12f",
   "metadata": {},
   "source": [
    "## KNN\n",
    "<a id=\"KNN\"></a>"
   ]
  },
  {
   "cell_type": "code",
   "execution_count": null,
   "id": "de838b87-50ab-4cec-8143-efa90800150e",
   "metadata": {},
   "outputs": [],
   "source": [
    "test_error_rates = []\n",
    "\n",
    "\n",
    "for k in range(1,30):\n",
    "    knn_model = KNeighborsClassifier(n_neighbors=k)\n",
    "    knn_model.fit(scaled_X_train,y_train)\n",
    "\n",
    "    y_pred_test = knn_model.predict(scaled_X_test)\n",
    "\n",
    "    test_error = 1 - accuracy_score(y_test,y_pred_test)\n",
    "    test_error_rates.append(test_error)"
   ]
  },
  {
   "cell_type": "code",
   "execution_count": null,
   "id": "b27acdcf-d2d8-4cf2-abe3-d855ae2132f5",
   "metadata": {},
   "outputs": [],
   "source": [
    "plt.plot(range(1,30),test_error_rates)\n",
    "plt.show() "
   ]
  },
  {
   "cell_type": "markdown",
   "id": "923a2111-eb02-42ad-bca8-d6687617626a",
   "metadata": {},
   "source": [
    "#### Model Evaluation"
   ]
  },
  {
   "cell_type": "code",
   "execution_count": null,
   "id": "ec825ac6-4e9d-47df-b1b3-84a1f402170b",
   "metadata": {},
   "outputs": [],
   "source": [
    "Final_model = KNeighborsClassifier(n_neighbors=17)\n",
    "Final_model.fit(scaled_X_train,y_train)"
   ]
  },
  {
   "cell_type": "code",
   "execution_count": null,
   "id": "276bb321-d0c0-4b1b-b1d8-4b207267b024",
   "metadata": {},
   "outputs": [],
   "source": [
    "y_pred = Final_model.predict(scaled_X_test)\n",
    "y_pred_proba = Final_model.predict_proba(scaled_X_test)"
   ]
  },
  {
   "cell_type": "code",
   "execution_count": null,
   "id": "dd7dc833-0b3e-46dc-b55d-878a4c9ec84e",
   "metadata": {},
   "outputs": [],
   "source": [
    "confusion_matrix(y_test,y_pred)"
   ]
  },
  {
   "cell_type": "code",
   "execution_count": null,
   "id": "413ed340-2efb-4a92-a79b-5ab9c4222bdb",
   "metadata": {},
   "outputs": [],
   "source": [
    "print(classification_report(y_test,y_pred))"
   ]
  },
  {
   "cell_type": "markdown",
   "id": "6ae7bddb-f0d2-41d8-aea3-bbff320cafd1",
   "metadata": {},
   "source": [
    "#### Predict the non churned Customers who possibly churn:"
   ]
  },
  {
   "cell_type": "code",
   "execution_count": null,
   "id": "846c4fc5-a6f2-412e-9372-6071e6130fda",
   "metadata": {},
   "outputs": [],
   "source": [
    "# Select non-churned customers and remove unnecessary columns\n",
    "# Ensuring no unexpected columns are passed\n",
    "nonchurned_customers = df[df['Churn'] == 0].drop(['customerID', 'Churn', 'Churn_Probability'], axis=1, errors='ignore')\n",
    "\n",
    "# Scale the features\n",
    "nonchurned_customers_scaled = scaler.transform(nonchurned_customers)\n",
    "\n",
    "# Predict churn probability for non-churned customers\n",
    "nonchurned_churn_probabilities = Final_model.predict_proba(nonchurned_customers_scaled)[:, 1]\n",
    "\n",
    "# Assign churn probabilities to the original DataFrame using .loc\n",
    "df.loc[df['Churn'] == 0, 'Churn_Probability'] = nonchurned_churn_probabilities\n",
    "\n",
    "# Display selected columns for non-churned customers\n",
    "df.loc[df['Churn'] == 0, ['customerID', 'Churn', 'Churn_Probability']].head()"
   ]
  },
  {
   "cell_type": "markdown",
   "id": "be8e9039-125f-4716-bb26-32e0675b39de",
   "metadata": {},
   "source": [
    "#### Using Grid search to choose the best K :"
   ]
  },
  {
   "cell_type": "code",
   "execution_count": null,
   "id": "82f0eef6-40b9-4979-9986-092e54c12721",
   "metadata": {},
   "outputs": [],
   "source": [
    "from sklearn.pipeline import Pipeline\n",
    "from sklearn.model_selection import GridSearchCV\n",
    "operations = [('scaler',StandardScaler()),('knn',KNeighborsClassifier())]\n",
    "pipe = Pipeline(operations)\n",
    "k_values = list(range(1,30))\n",
    "param_grid = {'knn__n_neighbors': k_values}\n",
    "full_cv_classifier = GridSearchCV(pipe,param_grid,cv=5,scoring='recall')\n",
    "full_cv_classifier.fit(X_train,y_train)\n",
    "full_cv_classifier.best_estimator_.get_params()"
   ]
  },
  {
   "cell_type": "markdown",
   "id": "3bb38dca-fe70-433c-b161-73f01c626b35",
   "metadata": {},
   "source": [
    "### Classification Confusion Metrix"
   ]
  },
  {
   "cell_type": "code",
   "execution_count": null,
   "id": "7842db2f-9c3d-4244-b6b6-2b4f5c80e32f",
   "metadata": {},
   "outputs": [],
   "source": [
    "cm = confusion_matrix(y_test, y_pred)\n",
    "\n",
    "# Create the heatmap\n",
    "heatmap = go.Figure(data=go.Heatmap(\n",
    "    z=cm,\n",
    "    x=['Not Churn', 'Churn'],  \n",
    "    y=['Churn', 'Not Churn'],        \n",
    "    colorscale='Cividis',\n",
    "    text=cm,\n",
    "    texttemplate=\"%{text}\",\n",
    "    hoverinfo='text'\n",
    "))\n",
    "\n",
    "heatmap.update_layout(\n",
    "    title='RANDOM FOREST CONFUSION MATRIX',\n",
    "    xaxis_title='Predicted Label',\n",
    "    yaxis_title='True Label',\n",
    "    font=dict(size=14),\n",
    "    width=700, \n",
    "    height=600\n",
    ")"
   ]
  },
  {
   "cell_type": "markdown",
   "id": "3ef5d24e-f45b-46d9-9aab-95234ac8033d",
   "metadata": {},
   "source": [
    "## Random Forest\n",
    "<a id=\"Random-Forest\"></a>"
   ]
  },
  {
   "cell_type": "markdown",
   "id": "e75f627a-97a7-4b09-8368-bed225ab1a17",
   "metadata": {},
   "source": [
    "#### Feature Selection"
   ]
  },
  {
   "cell_type": "markdown",
   "id": "57425493-869e-4ca4-8cf1-a87ee8af1123",
   "metadata": {},
   "source": [
    "- Separates the target variable (y) from the features. It drops the `customerID` and `Churn` columns from the features DataFrame (df2)."
   ]
  },
  {
   "cell_type": "code",
   "execution_count": null,
   "id": "f0d82e5e-1428-40a9-8130-65afab643902",
   "metadata": {},
   "outputs": [],
   "source": [
    "# Separate the target variable from the features\n",
    "y = df['Churn']  # Target\n",
    "df2 = df.drop(columns=['customerID', 'Churn'])  # Drop non-predictive feature and target\n",
    "\n",
    "# Convert categorical columns to numerical using one-hot encoding\n",
    "df2 = pd.get_dummies(df2, drop_first=True)\n",
    "\n",
    "# Define features\n",
    "X = df2  # Features"
   ]
  },
  {
   "cell_type": "markdown",
   "id": "125198dc-41ae-4cd9-901c-7d052eac116e",
   "metadata": {},
   "source": [
    "- Applies one-hot encoding to convert categorical columns in df2 into numerical format, removing the first category to avoid multicollinearity."
   ]
  },
  {
   "cell_type": "code",
   "execution_count": null,
   "id": "a923e306-8a27-4ceb-bd12-3f455a8d7ac2",
   "metadata": {},
   "outputs": [],
   "source": [
    "# Convert categorical columns to numerical using one-hot encoding\n",
    "df2 = pd.get_dummies(df2, drop_first=True)"
   ]
  },
  {
   "cell_type": "markdown",
   "id": "01d6fa90-90ed-427a-9359-14be507e5494",
   "metadata": {},
   "source": [
    "- Calculates and Visualizes the correlation matrix of the features to check for multicollinearity using a heatmap."
   ]
  },
  {
   "cell_type": "code",
   "execution_count": null,
   "id": "74737a58-ae80-4495-b2b1-e5c6aae18089",
   "metadata": {},
   "outputs": [],
   "source": [
    "# Step 2: Check for multicollinearity\n",
    "cmp = 'Spectral'\n",
    "plt.figure(figsize=(15, 15))\n",
    "correlation_matrix = X.corr()  # Calculate correlation on the features only\n",
    "sns.heatmap(correlation_matrix,cbar=True, annot=True, fmt=\".2f\", square=True, annot_kws={'size': 11}, cmap=cmp)\n",
    "plt.title('Correlation Matrix')\n",
    "plt.show()"
   ]
  },
  {
   "cell_type": "markdown",
   "id": "4af98050-f19b-4658-9896-bbac125b156f",
   "metadata": {},
   "source": [
    "- Splits the data into training and testing sets, using 30% of the data for testing and 70% for training."
   ]
  },
  {
   "cell_type": "code",
   "execution_count": null,
   "id": "0fad6bcf-d2db-4d60-b4cc-335d6574aed0",
   "metadata": {},
   "outputs": [],
   "source": [
    "# Step 3: Split data into training and testing sets\n",
    "X_train, X_test, y_train, y_test = train_test_split(X, y, test_size=0.3, random_state=42)"
   ]
  },
  {
   "cell_type": "markdown",
   "id": "5305be96-8fd5-402c-b6a1-01f9ade1a5b6",
   "metadata": {},
   "source": [
    "-  Initializes and Fits a `Random Forest classifier` to the training data to obtain feature importances."
   ]
  },
  {
   "cell_type": "code",
   "execution_count": null,
   "id": "6ef926a3-39d2-447c-b3e9-cc5684616633",
   "metadata": {},
   "outputs": [],
   "source": [
    "# Step 4: Fit the initial Random Forest model to get feature importances\n",
    "model = RandomForestClassifier(random_state=42)\n",
    "model.fit(X_train, y_train)"
   ]
  },
  {
   "cell_type": "markdown",
   "id": "c9cbd82f-cdab-4d38-8072-9a1952df7c04",
   "metadata": {},
   "source": [
    "- Extracts and Displays the feature importances from the trained Random Forest model, sorting them in descending order."
   ]
  },
  {
   "cell_type": "code",
   "execution_count": null,
   "id": "c9d9fcb6-80e5-4f83-824e-2de5df2ddf59",
   "metadata": {},
   "outputs": [],
   "source": [
    "# Get feature importance\n",
    "feature_importances = model.feature_importances_\n",
    "feature_names = X.columns\n",
    "importance_df = pd.DataFrame({'Feature': feature_names, 'Importance': feature_importances})\n",
    "importance_df = importance_df.sort_values(by='Importance', ascending=False)\n",
    "\n",
    "print(\"Feature Importances:\\n\", importance_df)"
   ]
  },
  {
   "cell_type": "markdown",
   "id": "036132c7-4fb5-4c3a-bf1e-c9bd6c013df4",
   "metadata": {},
   "source": [
    "- Selects the features with importance greater than 0.05 and creates a new DataFrame (X_selected) containing only these important features."
   ]
  },
  {
   "cell_type": "code",
   "execution_count": null,
   "id": "8f75deb8-f0d0-48bc-882f-bd8abc82d11d",
   "metadata": {},
   "outputs": [],
   "source": [
    "# Step 5: Select important features (e.g., importance > 0.05)\n",
    "selected_features = importance_df[importance_df['Importance'] > 0.05]['Feature']\n",
    "X_selected = X[selected_features]\n",
    "\n",
    "print(\"Selected Features:\\n\", X_selected)"
   ]
  },
  {
   "cell_type": "markdown",
   "id": "bbfab925-17c1-4af0-8311-501a07318f42",
   "metadata": {},
   "source": [
    "#### Random Forest Model Implementation"
   ]
  },
  {
   "cell_type": "markdown",
   "id": "e7876505-9da6-4534-8169-ebbc4da554ab",
   "metadata": {},
   "source": [
    "- Selects relevant features from the DataFrame df, Removes duplicate entries based on customerID, Converts the Churn column to a categorical type,  \n",
    "  and prints the class distribution of churn."
   ]
  },
  {
   "cell_type": "code",
   "execution_count": null,
   "id": "931e4203-bb16-479f-b428-a4cbc939b943",
   "metadata": {},
   "outputs": [],
   "source": [
    "# Selected features\n",
    "selected_features = [\"customerID\", \"TotalCharges\", \"MonthlyCharges\", \"tenure\", \"Churn\"]\n",
    "\n",
    "# Filter the data\n",
    "data_imputed = df[selected_features].drop_duplicates(subset='customerID')\n",
    "data_imputed['Churn'] = data_imputed['Churn'].astype('category')\n",
    "\n",
    "# Check the class distribution\n",
    "print(\"Class distribution in the original dataset:\\n\", data_imputed['Churn'].value_counts())"
   ]
  },
  {
   "cell_type": "markdown",
   "id": "6c9d7798-27ca-4414-8fc8-a837b1d9b707",
   "metadata": {},
   "source": [
    "- Performs a stratified split of the dataset into training and testing sets while maintaining the class distribution of churn.  \n",
    "   It also removes the `customerID` column from both sets for modeling purposes."
   ]
  },
  {
   "cell_type": "code",
   "execution_count": null,
   "id": "5eb44852-c683-4c27-aeeb-a9b353e44e11",
   "metadata": {},
   "outputs": [],
   "source": [
    "# Stratified split to maintain class distribution\n",
    "sss = StratifiedShuffleSplit(n_splits=1, test_size=0.2, random_state=123)\n",
    "for train_index, test_index in sss.split(data_imputed, data_imputed['Churn']):\n",
    "    train_set = data_imputed.iloc[train_index]\n",
    "    test_set = data_imputed.iloc[test_index]\n",
    "\n",
    "# Drop customerID from training and testing sets\n",
    "train_set = train_set.drop(columns=['customerID'])\n",
    "test_CIF = test_set['customerID']\n",
    "test_set = test_set.drop(columns=['customerID'])"
   ]
  },
  {
   "cell_type": "markdown",
   "id": "8a1484a3-6230-483f-be94-16ebaebb1c16",
   "metadata": {},
   "source": [
    "- Checks if both classes ('Yes' and 'No') are present in the training set. If one class is missing, it raises an error and prints the class distribution."
   ]
  },
  {
   "cell_type": "code",
   "execution_count": null,
   "id": "2e6be6e6-cbf9-416d-b252-7a493f8ff4ce",
   "metadata": {},
   "outputs": [],
   "source": [
    "# Check if both classes are present after the split\n",
    "train_set_majority = train_set[train_set['Churn'] == 0]\n",
    "train_set_minority = train_set[train_set['Churn'] == 1]\n",
    "\n",
    "# Add a check to ensure both classes are present\n",
    "if len(train_set_majority) == 0 or len(train_set_minority) == 0:\n",
    "    print(\"Class distribution in training set:\\n\", train_set['Churn'].value_counts())\n",
    "    raise ValueError(\"One of the classes is missing in the training set.\")"
   ]
  },
  {
   "cell_type": "markdown",
   "id": "a7ae5473-e863-491a-adbd-40dc03a5bff3",
   "metadata": {},
   "source": [
    "- Upsamples the minority class (customers who churned) so that it matches the size of the majority class (customers who did not churn).  \n",
    "  The two sets are then concatenated into a new training set."
   ]
  },
  {
   "cell_type": "code",
   "execution_count": null,
   "id": "af9b5f20-9d2d-46ea-8b0e-39f7a8c4b8e9",
   "metadata": {},
   "outputs": [],
   "source": [
    "# Upsample the minority class\n",
    "train_set_minority_upsampled = resample(train_set_minority,\n",
    "                                        replace=True,\n",
    "                                        n_samples=len(train_set_majority),\n",
    "                                        random_state=123)\n",
    "\n",
    "train_set_upsampled = pd.concat([train_set_majority, train_set_minority_upsampled])"
   ]
  },
  {
   "cell_type": "markdown",
   "id": "bd8849f2-141c-4325-948d-ea85f7c35798",
   "metadata": {},
   "source": [
    "- Prepares the features (X_train) and target variable (y_train) for training.  \n",
    "  It then initializes and fits a Random Forest classifier on the upsampled training set."
   ]
  },
  {
   "cell_type": "code",
   "execution_count": null,
   "id": "e6f6197c-e872-478e-97a9-7e8413ab873c",
   "metadata": {},
   "outputs": [],
   "source": [
    "# Train Random Forest model\n",
    "X_train = train_set_upsampled.drop(columns=['Churn'])\n",
    "y_train = train_set_upsampled['Churn']\n",
    "\n",
    "rf_model = RandomForestClassifier(n_estimators=100, max_features=3, random_state=123)\n",
    "rf_model.fit(X_train, y_train)"
   ]
  },
  {
   "cell_type": "markdown",
   "id": "ebdbeab9-4658-41ef-9f73-f4168d5ca31c",
   "metadata": {},
   "source": [
    "- Makes predictions on the test set using the trained model.     \n",
    "It calculates predicted probabilities and classes, then generates and prints a confusion matrix to evaluate model performance.\n"
   ]
  },
  {
   "cell_type": "code",
   "execution_count": null,
   "id": "ebdf0e58-30f3-458c-a3fd-95aa34e10799",
   "metadata": {},
   "outputs": [],
   "source": [
    "# Predictions on the test set\n",
    "X_test = test_set.drop(columns=['Churn'])\n",
    "y_test = test_set['Churn']\n",
    "\n",
    "predicted_probs = rf_model.predict_proba(X_test)\n",
    "predicted_classes = rf_model.predict(X_test)\n",
    "\n",
    "# Confusion matrix\n",
    "confusion = confusion_matrix(y_test, predicted_classes)\n",
    "print(\"Confusion Matrix:\\n\", confusion)"
   ]
  },
  {
   "cell_type": "markdown",
   "id": "7c6518f9-4aa5-4bd2-ace1-abf84dbf9196",
   "metadata": {},
   "source": [
    "- Calculates various performance metrics (accuracy, precision, recall, F1-score) based on the predictions made on the test set and prints them out."
   ]
  },
  {
   "cell_type": "code",
   "execution_count": null,
   "id": "4d33c1b4-f5c9-46d3-9f1b-204ebfae8c4d",
   "metadata": {},
   "outputs": [],
   "source": [
    "# Metrics calculations\n",
    "accuracy = accuracy_score(y_test, predicted_classes)\n",
    "precision = precision_score(y_test, predicted_classes, pos_label=1)\n",
    "recall = recall_score(y_test, predicted_classes, pos_label=1)\n",
    "f1 = f1_score(y_test, predicted_classes, pos_label=1)\n",
    "\n",
    "print(f\"Accuracy: {accuracy:.4f}\")\n",
    "print(f\"Precision: {precision:.4f}\")\n",
    "print(f\"Recall: {recall:.4f}\")\n",
    "print(f\"F1-Score: {f1:.4f}\")"
   ]
  },
  {
   "cell_type": "markdown",
   "id": "78fe8b4d-4f06-4a3b-bcdd-afdd36691473",
   "metadata": {},
   "source": [
    "- Predicts churn probabilities for customers who did not churn. It formats these probabilities as percentages and creates a DataFrame with customer IDs and predictions."
   ]
  },
  {
   "cell_type": "code",
   "execution_count": null,
   "id": "271b65ac-5794-4172-b0e2-2d544340624f",
   "metadata": {},
   "outputs": [],
   "source": [
    "# Predictions for customers who didn't churn\n",
    "nochurn = data_imputed[data_imputed['Churn'] == 0].drop(columns=['Churn', 'customerID'])\n",
    "nochurn_pred = rf_model.predict_proba(nochurn)[:, 1]\n",
    "threshold = 0.5\n",
    "binary_outcomes = (nochurn_pred >= threshold).astype(int)\n",
    "\n",
    "# Format probabilities\n",
    "formatted_probs = [f\"{prob * 100:.2f}%\" for prob in nochurn_pred]\n",
    "\n",
    "predicted_data = pd.DataFrame({\n",
    "    'customerID': data_imputed[data_imputed['Churn'] == 0]['customerID'],\n",
    "    'churn_pred': binary_outcomes,\n",
    "    'predicted_outcome': formatted_probs\n",
    "})"
   ]
  },
  {
   "cell_type": "markdown",
   "id": "c9c9ecb2-d9eb-47ca-acca-139eacba728d",
   "metadata": {},
   "source": [
    "- Merges the predictions with original customer data based on customerID, removes duplicates, displays the resulting DataFrame, and saves it to a CSV file."
   ]
  },
  {
   "cell_type": "code",
   "execution_count": null,
   "id": "f07bc2f9-1ae6-4a3c-8b57-5d2e9fe6a56c",
   "metadata": {},
   "outputs": [],
   "source": [
    "# Merge and filter duplicates\n",
    "predicted_churn = pd.merge(data_imputed, predicted_data, on='customerID').drop_duplicates()\n",
    "\n",
    "# Display the merged predicted data\n",
    "print(predicted_churn)\n",
    "\n",
    "# Save the predicted_churn DataFrame to a CSV file\n",
    "predicted_churn.to_csv('predicted_churn.csv', index=False)"
   ]
  },
  {
   "cell_type": "markdown",
   "id": "e2609ab7-01b7-4283-b8c9-8ab47e8fce7a",
   "metadata": {},
   "source": [
    "- This cell converts formatted probability strings back into numeric values.   \n",
    "  It then counts how many customers are predicted to churn with a probability greater than 50% and prints this count.  \n",
    "  This structured approach will help you understand each part of your code better while also making it easier to debug or modify specific sections as needed."
   ]
  },
  {
   "cell_type": "code",
   "execution_count": null,
   "id": "edd82840-5ba5-4949-a7b3-57aa007599df",
   "metadata": {},
   "outputs": [],
   "source": [
    "# Convert the predicted_outcome strings to numeric values\n",
    "predicted_churn['predicted_probability'] = predicted_churn['predicted_outcome'].str.replace('%', '').astype(float) / 100\n",
    "\n",
    "# Count how many will churn with probability greater than 50%\n",
    "churn_count = predicted_churn[predicted_churn['predicted_probability'] > 0.5].shape[0]\n",
    "\n",
    "print(f\"Number of customers predicted to churn with probability greater than 50%: {churn_count}\")"
   ]
  },
  {
   "cell_type": "markdown",
   "id": "84068790-5879-4d49-af04-b3c983c02a08",
   "metadata": {},
   "source": [
    "-----------------\n",
    "# 8- Summary\n",
    "<a id=\"8--Summary\"></a>"
   ]
  },
  {
   "cell_type": "markdown",
   "id": "a3026b4d-aa18-4e7e-bedc-620c2afb1d7b",
   "metadata": {},
   "source": [
    "- **Contract & Monthly Charges**   \n",
    "Customers who choose a 'Two-year' contract have a greater chance of not churn. While the 'Month-to-month' contract has the opposite effect. This is related to the Monthly Charges feature, where the higher the monthly fee, the greater the chance of customers to churn. To overcome this, companies need to rearrange their pricing strategies for their products to minimize the chances of churn for customers who choose the 'Month-to-month' contract.\n",
    "\n",
    "\n",
    "\n",
    "- **Internet Service**  \n",
    "If customers use 'fiber optic' internet services, the chances of customers to churn are greater. Based on insights from EDA that have been conducted, competitors are the biggest reason why people who use fiber optics churn, companies are required to optimize their fiber optic products so that they can compete more with competitor products.\n",
    "\n",
    "\n",
    "\n",
    "- **Number of Dependents**   \n",
    "The more 'Number of Dependents' the greater the chance of customers not to unsubscribe. Marketing can run campaigns to married customers rather than single ones, and try to improve sales strategies so that single customers are more interested in the products offered.\n",
    "\n",
    "\n",
    "\n",
    "- **Tenure Months**   \n",
    "The greater the 'Tenure Months', the greater the opportunity for customers not to churn, a large 'Tenure Months' indicates that our product has been well received by customers, and marketing needs to improve retention campaign strategies so that tenure months are greater.\n",
    "\n",
    "\n",
    "\n",
    "- **Payment Method**\n",
    "Customers who use electronic payment methods are more likely to churn. While electronic payments are generally convenient, this trend might indicate that these customers face issues with our online payment system or experience concerns about security and reliability. To address this, we should enhance the user experience of our electronic payment systems and provide clear, step-by-step guidance and support. Additionally, our marketing and customer support teams should actively engage with these customers to understand their pain points and offer solutions that build trust and ease of use."
   ]
  },
  {
   "cell_type": "code",
   "execution_count": null,
   "id": "1ff5d76b-8835-4471-9aeb-fd171a479742",
   "metadata": {},
   "outputs": [],
   "source": []
  }
 ],
 "metadata": {
  "kernelspec": {
   "display_name": "Python 3 (ipykernel)",
   "language": "python",
   "name": "python3"
  },
  "language_info": {
   "codemirror_mode": {
    "name": "ipython",
    "version": 3
   },
   "file_extension": ".py",
   "mimetype": "text/x-python",
   "name": "python",
   "nbconvert_exporter": "python",
   "pygments_lexer": "ipython3",
   "version": "3.12.4"
  }
 },
 "nbformat": 4,
 "nbformat_minor": 5
}
